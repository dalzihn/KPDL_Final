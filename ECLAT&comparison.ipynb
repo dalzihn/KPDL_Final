{
 "cells": [
  {
   "cell_type": "code",
   "execution_count": 1,
   "metadata": {},
   "outputs": [],
   "source": [
    "import pandas as pd\n",
    "from mlxtend.frequent_patterns import fpgrowth, association_rules, apriori\n",
    "from mlxtend.preprocessing import TransactionEncoder\n",
    "import pyECLAT as pe\n",
    "import numpy as np\n",
    "import warnings\n",
    "import matplotlib.pyplot as plt\n",
    "import time\n",
    "warnings.filterwarnings(\"ignore\")"
   ]
  },
  {
   "cell_type": "code",
   "execution_count": 2,
   "metadata": {},
   "outputs": [],
   "source": [
    "folder = '/Users/lam.nguyen/Desktop/GithubClone/KPDL_Final'"
   ]
  },
  {
   "cell_type": "markdown",
   "metadata": {},
   "source": [
    "Read data\n"
   ]
  },
  {
   "cell_type": "code",
   "execution_count": 3,
   "metadata": {},
   "outputs": [],
   "source": [
    "books = pd.read_csv(folder + '/Books.csv')"
   ]
  },
  {
   "cell_type": "markdown",
   "metadata": {},
   "source": [
    "# Apriori"
   ]
  },
  {
   "cell_type": "code",
   "execution_count": 4,
   "metadata": {},
   "outputs": [
    {
     "name": "stdout",
     "output_type": "stream",
     "text": [
      "   Child  Youth   Cook  Science  Music    Art   Geog  Sport  Tourism  \\\n",
      "0  False   True  False     True  False  False   True  False    False   \n",
      "1   True  False  False    False  False  False  False  False    False   \n",
      "2  False  False  False    False  False  False  False  False    False   \n",
      "3   True   True   True    False   True  False   True  False    False   \n",
      "4  False  False   True    False  False  False   True  False    False   \n",
      "\n",
      "   Business     IT  \n",
      "0     False  False  \n",
      "1     False  False  \n",
      "2     False  False  \n",
      "3     False  False  \n",
      "4     False  False  \n"
     ]
    }
   ],
   "source": [
    "# Nếu dữ liệu đã ở dạng nhị phân (0 và 1), dòng dưới đây sẽ chuyển đổi sang kiểu Boolean\n",
    "apriori_data = books.applymap(lambda x: True if x == 1 else False)\n",
    "\n",
    "apriori_data = apriori_data.astype(bool)\n",
    "print(apriori_data.head())"
   ]
  },
  {
   "cell_type": "code",
   "execution_count": 31,
   "metadata": {},
   "outputs": [
    {
     "name": "stdout",
     "output_type": "stream",
     "text": [
      "\n",
      "=== Apriori - Các tập phổ biến ===\n",
      "    support          itemsets\n",
      "0    0.4230           (Child)\n",
      "1    0.2475           (Youth)\n",
      "2    0.4310            (Cook)\n",
      "3    0.2820         (Science)\n",
      "4    0.2145           (Music)\n",
      "5    0.2410             (Art)\n",
      "6    0.2760            (Geog)\n",
      "7    0.1650    (Youth, Child)\n",
      "8    0.2560     (Cook, Child)\n",
      "9    0.1840  (Science, Child)\n",
      "10   0.1515    (Music, Child)\n",
      "11   0.1625      (Art, Child)\n",
      "12   0.1950     (Child, Geog)\n",
      "13   0.1620     (Cook, Youth)\n",
      "14   0.1875   (Science, Cook)\n",
      "15   0.1525     (Music, Cook)\n",
      "16   0.1670       (Cook, Art)\n",
      "17   0.1925      (Cook, Geog)\n"
     ]
    }
   ],
   "source": [
    "# Tính các tập phổ biến có min_support = 10% \n",
    "frequent_itemsets = apriori(apriori_data, min_support=0.2, use_colnames=True)\n",
    "\n",
    "print(\"\\n=== Apriori - Các tập phổ biến ===\")\n",
    "print(frequent_itemsets)"
   ]
  },
  {
   "cell_type": "code",
   "execution_count": 32,
   "metadata": {},
   "outputs": [
    {
     "name": "stdout",
     "output_type": "stream",
     "text": [
      "Luật kết hợp:\n",
      "   antecedents consequents  antecedent support  consequent support  support  \\\n",
      "0      (Youth)     (Child)              0.2475              0.4230   0.1650   \n",
      "1      (Child)     (Youth)              0.4230              0.2475   0.1650   \n",
      "2       (Cook)     (Child)              0.4310              0.4230   0.2560   \n",
      "3      (Child)      (Cook)              0.4230              0.4310   0.2560   \n",
      "4    (Science)     (Child)              0.2820              0.4230   0.1840   \n",
      "5      (Child)   (Science)              0.4230              0.2820   0.1840   \n",
      "6      (Music)     (Child)              0.2145              0.4230   0.1515   \n",
      "7      (Child)     (Music)              0.4230              0.2145   0.1515   \n",
      "8        (Art)     (Child)              0.2410              0.4230   0.1625   \n",
      "9      (Child)       (Art)              0.4230              0.2410   0.1625   \n",
      "10     (Child)      (Geog)              0.4230              0.2760   0.1950   \n",
      "11      (Geog)     (Child)              0.2760              0.4230   0.1950   \n",
      "12      (Cook)     (Youth)              0.4310              0.2475   0.1620   \n",
      "13     (Youth)      (Cook)              0.2475              0.4310   0.1620   \n",
      "14   (Science)      (Cook)              0.2820              0.4310   0.1875   \n",
      "15      (Cook)   (Science)              0.4310              0.2820   0.1875   \n",
      "16     (Music)      (Cook)              0.2145              0.4310   0.1525   \n",
      "17      (Cook)     (Music)              0.4310              0.2145   0.1525   \n",
      "18      (Cook)       (Art)              0.4310              0.2410   0.1670   \n",
      "19       (Art)      (Cook)              0.2410              0.4310   0.1670   \n",
      "20      (Cook)      (Geog)              0.4310              0.2760   0.1925   \n",
      "21      (Geog)      (Cook)              0.2760              0.4310   0.1925   \n",
      "\n",
      "    confidence      lift  representativity  leverage  conviction  \\\n",
      "0     0.666667  1.576044               1.0  0.060308    1.731000   \n",
      "1     0.390071  1.576044               1.0  0.060308    1.233750   \n",
      "2     0.593968  1.404179               1.0  0.073687    1.421069   \n",
      "3     0.605201  1.404179               1.0  0.073687    1.441240   \n",
      "4     0.652482  1.542511               1.0  0.064714    1.660347   \n",
      "5     0.434988  1.542511               1.0  0.064714    1.270770   \n",
      "6     0.706294  1.669725               1.0  0.060767    1.964548   \n",
      "7     0.358156  1.669725               1.0  0.060767    1.223818   \n",
      "8     0.674274  1.594028               1.0  0.060557    1.771427   \n",
      "9     0.384161  1.594028               1.0  0.060557    1.232464   \n",
      "10    0.460993  1.670264               1.0  0.078252    1.343211   \n",
      "11    0.706522  1.670264               1.0  0.078252    1.966074   \n",
      "12    0.375870  1.518667               1.0  0.055328    1.205678   \n",
      "13    0.654545  1.518667               1.0  0.055328    1.647105   \n",
      "14    0.664894  1.542677               1.0  0.065958    1.697968   \n",
      "15    0.435035  1.542677               1.0  0.065958    1.270875   \n",
      "16    0.710956  1.649549               1.0  0.060050    1.968556   \n",
      "17    0.353828  1.649549               1.0  0.060050    1.215621   \n",
      "18    0.387471  1.607763               1.0  0.063129    1.239125   \n",
      "19    0.692946  1.607763               1.0  0.063129    1.853095   \n",
      "20    0.446636  1.618245               1.0  0.073544    1.308361   \n",
      "21    0.697464  1.618245               1.0  0.073544    1.880766   \n",
      "\n",
      "    zhangs_metric   jaccard  certainty  kulczynski  \n",
      "0        0.485714  0.326409   0.422299    0.528369  \n",
      "1        0.633449  0.326409   0.189463    0.528369  \n",
      "2        0.505870  0.428094   0.296304    0.599584  \n",
      "3        0.498856  0.428094   0.306153    0.599584  \n",
      "4        0.489842  0.353167   0.397716    0.543735  \n",
      "5        0.609543  0.353167   0.213075    0.543735  \n",
      "6        0.510629  0.311728   0.490977    0.532225  \n",
      "7        0.695146  0.311728   0.182885    0.532225  \n",
      "8        0.490986  0.324028   0.435483    0.529217  \n",
      "9        0.645855  0.324028   0.188618    0.529217  \n",
      "10       0.695481  0.386905   0.255515    0.583757  \n",
      "11       0.554271  0.386905   0.491372    0.583757  \n",
      "12       0.600225  0.313650   0.170591    0.515208  \n",
      "13       0.453858  0.313650   0.392874    0.515208  \n",
      "14       0.489939  0.356803   0.411061    0.549964  \n",
      "15       0.618236  0.356803   0.213140    0.549964  \n",
      "16       0.501303  0.309331   0.492014    0.532392  \n",
      "17       0.692045  0.309331   0.177375    0.532392  \n",
      "18       0.664355  0.330693   0.192979    0.540209  \n",
      "19       0.498047  0.330693   0.460362    0.540209  \n",
      "20       0.671435  0.374150   0.235685    0.572050  \n",
      "21       0.527689  0.374150   0.468302    0.572050  \n"
     ]
    }
   ],
   "source": [
    "# Tính số lượng itemsets dựa vào frequent_itemsets\n",
    "num_itemsets_apriori = len(frequent_itemsets)\n",
    "\n",
    "# Khởi tạo luật kết hợp dựa trên frequent_itemsets đó\n",
    "rules = association_rules(frequent_itemsets, num_itemsets=num_itemsets_apriori, metric=\"confidence\", min_threshold=0.2)\n",
    "\n",
    "\n",
    "print(\"Luật kết hợp:\")\n",
    "print(rules)"
   ]
  },
  {
   "cell_type": "markdown",
   "metadata": {},
   "source": [
    "# FP-growth"
   ]
  },
  {
   "cell_type": "code",
   "execution_count": 25,
   "metadata": {},
   "outputs": [
    {
     "name": "stdout",
     "output_type": "stream",
     "text": [
      "\n",
      "=== Strong Association Rules (FP-Growth) ===\n",
      "   antecedents consequents  support  confidence      lift\n",
      "14     (Music)      (Cook)   0.1525    0.710956  1.649549\n",
      "5       (Geog)     (Child)   0.1950    0.706522  1.670264\n",
      "16     (Music)     (Child)   0.1515    0.706294  1.669725\n",
      "7       (Geog)      (Cook)   0.1925    0.697464  1.618245\n",
      "21       (Art)      (Cook)   0.1670    0.692946  1.607763\n",
      "18       (Art)     (Child)   0.1625    0.674274  1.594028\n",
      "8      (Youth)     (Child)   0.1650    0.666667  1.576044\n",
      "2    (Science)      (Cook)   0.1875    0.664894  1.542677\n",
      "11     (Youth)      (Cook)   0.1620    0.654545  1.518667\n",
      "0    (Science)     (Child)   0.1840    0.652482  1.542511\n",
      "13     (Child)      (Cook)   0.2560    0.605201  1.404179\n",
      "12      (Cook)     (Child)   0.2560    0.593968  1.404179\n",
      "4      (Child)      (Geog)   0.1950    0.460993  1.670264\n",
      "6       (Cook)      (Geog)   0.1925    0.446636  1.618245\n",
      "3       (Cook)   (Science)   0.1875    0.435035  1.542677\n",
      "1      (Child)   (Science)   0.1840    0.434988  1.542511\n",
      "9      (Child)     (Youth)   0.1650    0.390071  1.576044\n",
      "20      (Cook)       (Art)   0.1670    0.387471  1.607763\n",
      "19     (Child)       (Art)   0.1625    0.384161  1.594028\n",
      "10      (Cook)     (Youth)   0.1620    0.375870  1.518667\n",
      "17     (Child)     (Music)   0.1515    0.358156  1.669725\n",
      "15      (Cook)     (Music)   0.1525    0.353828  1.649549\n"
     ]
    }
   ],
   "source": [
    "# # Tính toán các tập hợp thường gặp bằng FP-Growth\n",
    "# frequent_itemsets_fp = fpgrowth(books, min_support=0.01, use_colnames=True)\n",
    "\n",
    "# # Kiểm tra kết quả\n",
    "# print(frequent_itemsets_fp)\n",
    "# # Tạo các quy tắc kết hợp\n",
    "# rules_fp = association_rules(frequent_itemsets_fp, num_itemsets=num_itemsets_fp, metric=\"lift\", min_threshold=1)\n",
    "\n",
    "# FP-Growth Algorithm\n",
    "frequent_itemsets_fp = fpgrowth(books, min_support=0.2, use_colnames=True)\n",
    "num_itemsets_fp = len(frequent_itemsets_fp)\n",
    "rules_fp = association_rules(frequent_itemsets_fp, num_itemsets=num_itemsets_fp, metric=\"confidence\", min_threshold=0.2)\n",
    "\n",
    "# Displaying results for FP-Growth\n",
    "# print(\"\\n=== FP-Growth - Các tập phổ biến ===\")\n",
    "# fp_results = frequent_itemsets_fp[['itemsets', 'support']].sort_values(by='support', ascending=False)\n",
    "# print(fp_results)\n",
    "\n",
    "print(\"\\n=== Strong Association Rules (FP-Growth) ===\")\n",
    "fp_rules_results = rules_fp[['antecedents', 'consequents', 'support', 'confidence', 'lift']].sort_values(by='confidence', ascending=False)\n",
    "print(fp_rules_results)\n"
   ]
  },
  {
   "cell_type": "markdown",
   "metadata": {},
   "source": [
    "# ECLAT\n"
   ]
  },
  {
   "cell_type": "code",
   "execution_count": 8,
   "metadata": {},
   "outputs": [
    {
     "data": {
      "text/html": [
       "<div>\n",
       "<style scoped>\n",
       "    .dataframe tbody tr th:only-of-type {\n",
       "        vertical-align: middle;\n",
       "    }\n",
       "\n",
       "    .dataframe tbody tr th {\n",
       "        vertical-align: top;\n",
       "    }\n",
       "\n",
       "    .dataframe thead th {\n",
       "        text-align: right;\n",
       "    }\n",
       "</style>\n",
       "<table border=\"1\" class=\"dataframe\">\n",
       "  <thead>\n",
       "    <tr style=\"text-align: right;\">\n",
       "      <th></th>\n",
       "      <th>0</th>\n",
       "      <th>1</th>\n",
       "      <th>2</th>\n",
       "      <th>3</th>\n",
       "      <th>4</th>\n",
       "      <th>5</th>\n",
       "      <th>6</th>\n",
       "      <th>7</th>\n",
       "      <th>8</th>\n",
       "      <th>9</th>\n",
       "      <th>10</th>\n",
       "    </tr>\n",
       "  </thead>\n",
       "  <tbody>\n",
       "    <tr>\n",
       "      <th>0</th>\n",
       "      <td>Youth</td>\n",
       "      <td>Science</td>\n",
       "      <td>Geog</td>\n",
       "      <td>None</td>\n",
       "      <td>None</td>\n",
       "      <td>None</td>\n",
       "      <td>None</td>\n",
       "      <td>None</td>\n",
       "      <td>None</td>\n",
       "      <td>None</td>\n",
       "      <td>None</td>\n",
       "    </tr>\n",
       "    <tr>\n",
       "      <th>1</th>\n",
       "      <td>Child</td>\n",
       "      <td>None</td>\n",
       "      <td>None</td>\n",
       "      <td>None</td>\n",
       "      <td>None</td>\n",
       "      <td>None</td>\n",
       "      <td>None</td>\n",
       "      <td>None</td>\n",
       "      <td>None</td>\n",
       "      <td>None</td>\n",
       "      <td>None</td>\n",
       "    </tr>\n",
       "    <tr>\n",
       "      <th>2</th>\n",
       "      <td>None</td>\n",
       "      <td>None</td>\n",
       "      <td>None</td>\n",
       "      <td>None</td>\n",
       "      <td>None</td>\n",
       "      <td>None</td>\n",
       "      <td>None</td>\n",
       "      <td>None</td>\n",
       "      <td>None</td>\n",
       "      <td>None</td>\n",
       "      <td>None</td>\n",
       "    </tr>\n",
       "    <tr>\n",
       "      <th>3</th>\n",
       "      <td>Child</td>\n",
       "      <td>Youth</td>\n",
       "      <td>Cook</td>\n",
       "      <td>Music</td>\n",
       "      <td>Geog</td>\n",
       "      <td>None</td>\n",
       "      <td>None</td>\n",
       "      <td>None</td>\n",
       "      <td>None</td>\n",
       "      <td>None</td>\n",
       "      <td>None</td>\n",
       "    </tr>\n",
       "    <tr>\n",
       "      <th>4</th>\n",
       "      <td>Cook</td>\n",
       "      <td>Geog</td>\n",
       "      <td>None</td>\n",
       "      <td>None</td>\n",
       "      <td>None</td>\n",
       "      <td>None</td>\n",
       "      <td>None</td>\n",
       "      <td>None</td>\n",
       "      <td>None</td>\n",
       "      <td>None</td>\n",
       "      <td>None</td>\n",
       "    </tr>\n",
       "    <tr>\n",
       "      <th>...</th>\n",
       "      <td>...</td>\n",
       "      <td>...</td>\n",
       "      <td>...</td>\n",
       "      <td>...</td>\n",
       "      <td>...</td>\n",
       "      <td>...</td>\n",
       "      <td>...</td>\n",
       "      <td>...</td>\n",
       "      <td>...</td>\n",
       "      <td>...</td>\n",
       "      <td>...</td>\n",
       "    </tr>\n",
       "    <tr>\n",
       "      <th>1995</th>\n",
       "      <td>Cook</td>\n",
       "      <td>Art</td>\n",
       "      <td>Geog</td>\n",
       "      <td>Sport</td>\n",
       "      <td>Business</td>\n",
       "      <td>IT</td>\n",
       "      <td>None</td>\n",
       "      <td>None</td>\n",
       "      <td>None</td>\n",
       "      <td>None</td>\n",
       "      <td>None</td>\n",
       "    </tr>\n",
       "    <tr>\n",
       "      <th>1996</th>\n",
       "      <td>None</td>\n",
       "      <td>None</td>\n",
       "      <td>None</td>\n",
       "      <td>None</td>\n",
       "      <td>None</td>\n",
       "      <td>None</td>\n",
       "      <td>None</td>\n",
       "      <td>None</td>\n",
       "      <td>None</td>\n",
       "      <td>None</td>\n",
       "      <td>None</td>\n",
       "    </tr>\n",
       "    <tr>\n",
       "      <th>1997</th>\n",
       "      <td>None</td>\n",
       "      <td>None</td>\n",
       "      <td>None</td>\n",
       "      <td>None</td>\n",
       "      <td>None</td>\n",
       "      <td>None</td>\n",
       "      <td>None</td>\n",
       "      <td>None</td>\n",
       "      <td>None</td>\n",
       "      <td>None</td>\n",
       "      <td>None</td>\n",
       "    </tr>\n",
       "    <tr>\n",
       "      <th>1998</th>\n",
       "      <td>Cook</td>\n",
       "      <td>None</td>\n",
       "      <td>None</td>\n",
       "      <td>None</td>\n",
       "      <td>None</td>\n",
       "      <td>None</td>\n",
       "      <td>None</td>\n",
       "      <td>None</td>\n",
       "      <td>None</td>\n",
       "      <td>None</td>\n",
       "      <td>None</td>\n",
       "    </tr>\n",
       "    <tr>\n",
       "      <th>1999</th>\n",
       "      <td>None</td>\n",
       "      <td>None</td>\n",
       "      <td>None</td>\n",
       "      <td>None</td>\n",
       "      <td>None</td>\n",
       "      <td>None</td>\n",
       "      <td>None</td>\n",
       "      <td>None</td>\n",
       "      <td>None</td>\n",
       "      <td>None</td>\n",
       "      <td>None</td>\n",
       "    </tr>\n",
       "  </tbody>\n",
       "</table>\n",
       "<p>2000 rows × 11 columns</p>\n",
       "</div>"
      ],
      "text/plain": [
       "         0        1     2      3         4     5     6     7     8     9   \\\n",
       "0     Youth  Science  Geog   None      None  None  None  None  None  None   \n",
       "1     Child     None  None   None      None  None  None  None  None  None   \n",
       "2      None     None  None   None      None  None  None  None  None  None   \n",
       "3     Child    Youth  Cook  Music      Geog  None  None  None  None  None   \n",
       "4      Cook     Geog  None   None      None  None  None  None  None  None   \n",
       "...     ...      ...   ...    ...       ...   ...   ...   ...   ...   ...   \n",
       "1995   Cook      Art  Geog  Sport  Business    IT  None  None  None  None   \n",
       "1996   None     None  None   None      None  None  None  None  None  None   \n",
       "1997   None     None  None   None      None  None  None  None  None  None   \n",
       "1998   Cook     None  None   None      None  None  None  None  None  None   \n",
       "1999   None     None  None   None      None  None  None  None  None  None   \n",
       "\n",
       "        10  \n",
       "0     None  \n",
       "1     None  \n",
       "2     None  \n",
       "3     None  \n",
       "4     None  \n",
       "...    ...  \n",
       "1995  None  \n",
       "1996  None  \n",
       "1997  None  \n",
       "1998  None  \n",
       "1999  None  \n",
       "\n",
       "[2000 rows x 11 columns]"
      ]
     },
     "execution_count": 8,
     "metadata": {},
     "output_type": "execute_result"
    }
   ],
   "source": [
    "# Chuyển đổi dữ liệu sang horizational format\n",
    "result = books.apply(lambda row: [col for col, val in row.items() if val == 1] + [None] * (len(books.columns) - sum(row)), axis=1)\n",
    "\n",
    "# Chuyển đổi kết quả về dataframe mới\n",
    "result_df = pd.DataFrame(result.tolist(), columns=books.columns)\n",
    "\n",
    "# Thay đổi header thành số 0, 1, 2, 3,...\n",
    "result_df.columns = range(len(result_df.columns))\n",
    "\n",
    "# Hiển thị kết quả\n",
    "result_df"
   ]
  },
  {
   "cell_type": "code",
   "execution_count": 9,
   "metadata": {},
   "outputs": [
    {
     "data": {
      "text/html": [
       "<div>\n",
       "<style scoped>\n",
       "    .dataframe tbody tr th:only-of-type {\n",
       "        vertical-align: middle;\n",
       "    }\n",
       "\n",
       "    .dataframe tbody tr th {\n",
       "        vertical-align: top;\n",
       "    }\n",
       "\n",
       "    .dataframe thead th {\n",
       "        text-align: right;\n",
       "    }\n",
       "</style>\n",
       "<table border=\"1\" class=\"dataframe\">\n",
       "  <thead>\n",
       "    <tr style=\"text-align: right;\">\n",
       "      <th></th>\n",
       "      <th>0</th>\n",
       "      <th>1</th>\n",
       "      <th>2</th>\n",
       "      <th>3</th>\n",
       "      <th>4</th>\n",
       "      <th>5</th>\n",
       "      <th>6</th>\n",
       "      <th>7</th>\n",
       "      <th>8</th>\n",
       "      <th>9</th>\n",
       "      <th>10</th>\n",
       "    </tr>\n",
       "  </thead>\n",
       "  <tbody>\n",
       "    <tr>\n",
       "      <th>0</th>\n",
       "      <td>Youth</td>\n",
       "      <td>Science</td>\n",
       "      <td>Geog</td>\n",
       "      <td>NaN</td>\n",
       "      <td>NaN</td>\n",
       "      <td>NaN</td>\n",
       "      <td>NaN</td>\n",
       "      <td>NaN</td>\n",
       "      <td>NaN</td>\n",
       "      <td>NaN</td>\n",
       "      <td>NaN</td>\n",
       "    </tr>\n",
       "    <tr>\n",
       "      <th>1</th>\n",
       "      <td>Child</td>\n",
       "      <td>NaN</td>\n",
       "      <td>NaN</td>\n",
       "      <td>NaN</td>\n",
       "      <td>NaN</td>\n",
       "      <td>NaN</td>\n",
       "      <td>NaN</td>\n",
       "      <td>NaN</td>\n",
       "      <td>NaN</td>\n",
       "      <td>NaN</td>\n",
       "      <td>NaN</td>\n",
       "    </tr>\n",
       "    <tr>\n",
       "      <th>2</th>\n",
       "      <td>NaN</td>\n",
       "      <td>NaN</td>\n",
       "      <td>NaN</td>\n",
       "      <td>NaN</td>\n",
       "      <td>NaN</td>\n",
       "      <td>NaN</td>\n",
       "      <td>NaN</td>\n",
       "      <td>NaN</td>\n",
       "      <td>NaN</td>\n",
       "      <td>NaN</td>\n",
       "      <td>NaN</td>\n",
       "    </tr>\n",
       "    <tr>\n",
       "      <th>3</th>\n",
       "      <td>Child</td>\n",
       "      <td>Youth</td>\n",
       "      <td>Cook</td>\n",
       "      <td>Music</td>\n",
       "      <td>Geog</td>\n",
       "      <td>NaN</td>\n",
       "      <td>NaN</td>\n",
       "      <td>NaN</td>\n",
       "      <td>NaN</td>\n",
       "      <td>NaN</td>\n",
       "      <td>NaN</td>\n",
       "    </tr>\n",
       "    <tr>\n",
       "      <th>4</th>\n",
       "      <td>Cook</td>\n",
       "      <td>Geog</td>\n",
       "      <td>NaN</td>\n",
       "      <td>NaN</td>\n",
       "      <td>NaN</td>\n",
       "      <td>NaN</td>\n",
       "      <td>NaN</td>\n",
       "      <td>NaN</td>\n",
       "      <td>NaN</td>\n",
       "      <td>NaN</td>\n",
       "      <td>NaN</td>\n",
       "    </tr>\n",
       "    <tr>\n",
       "      <th>...</th>\n",
       "      <td>...</td>\n",
       "      <td>...</td>\n",
       "      <td>...</td>\n",
       "      <td>...</td>\n",
       "      <td>...</td>\n",
       "      <td>...</td>\n",
       "      <td>...</td>\n",
       "      <td>...</td>\n",
       "      <td>...</td>\n",
       "      <td>...</td>\n",
       "      <td>...</td>\n",
       "    </tr>\n",
       "    <tr>\n",
       "      <th>1995</th>\n",
       "      <td>Cook</td>\n",
       "      <td>Art</td>\n",
       "      <td>Geog</td>\n",
       "      <td>Sport</td>\n",
       "      <td>Business</td>\n",
       "      <td>IT</td>\n",
       "      <td>NaN</td>\n",
       "      <td>NaN</td>\n",
       "      <td>NaN</td>\n",
       "      <td>NaN</td>\n",
       "      <td>NaN</td>\n",
       "    </tr>\n",
       "    <tr>\n",
       "      <th>1996</th>\n",
       "      <td>NaN</td>\n",
       "      <td>NaN</td>\n",
       "      <td>NaN</td>\n",
       "      <td>NaN</td>\n",
       "      <td>NaN</td>\n",
       "      <td>NaN</td>\n",
       "      <td>NaN</td>\n",
       "      <td>NaN</td>\n",
       "      <td>NaN</td>\n",
       "      <td>NaN</td>\n",
       "      <td>NaN</td>\n",
       "    </tr>\n",
       "    <tr>\n",
       "      <th>1997</th>\n",
       "      <td>NaN</td>\n",
       "      <td>NaN</td>\n",
       "      <td>NaN</td>\n",
       "      <td>NaN</td>\n",
       "      <td>NaN</td>\n",
       "      <td>NaN</td>\n",
       "      <td>NaN</td>\n",
       "      <td>NaN</td>\n",
       "      <td>NaN</td>\n",
       "      <td>NaN</td>\n",
       "      <td>NaN</td>\n",
       "    </tr>\n",
       "    <tr>\n",
       "      <th>1998</th>\n",
       "      <td>Cook</td>\n",
       "      <td>NaN</td>\n",
       "      <td>NaN</td>\n",
       "      <td>NaN</td>\n",
       "      <td>NaN</td>\n",
       "      <td>NaN</td>\n",
       "      <td>NaN</td>\n",
       "      <td>NaN</td>\n",
       "      <td>NaN</td>\n",
       "      <td>NaN</td>\n",
       "      <td>NaN</td>\n",
       "    </tr>\n",
       "    <tr>\n",
       "      <th>1999</th>\n",
       "      <td>NaN</td>\n",
       "      <td>NaN</td>\n",
       "      <td>NaN</td>\n",
       "      <td>NaN</td>\n",
       "      <td>NaN</td>\n",
       "      <td>NaN</td>\n",
       "      <td>NaN</td>\n",
       "      <td>NaN</td>\n",
       "      <td>NaN</td>\n",
       "      <td>NaN</td>\n",
       "      <td>NaN</td>\n",
       "    </tr>\n",
       "  </tbody>\n",
       "</table>\n",
       "<p>2000 rows × 11 columns</p>\n",
       "</div>"
      ],
      "text/plain": [
       "         0        1     2      3         4    5    6    7    8    9    10\n",
       "0     Youth  Science  Geog    NaN       NaN  NaN  NaN  NaN  NaN  NaN  NaN\n",
       "1     Child      NaN   NaN    NaN       NaN  NaN  NaN  NaN  NaN  NaN  NaN\n",
       "2       NaN      NaN   NaN    NaN       NaN  NaN  NaN  NaN  NaN  NaN  NaN\n",
       "3     Child    Youth  Cook  Music      Geog  NaN  NaN  NaN  NaN  NaN  NaN\n",
       "4      Cook     Geog   NaN    NaN       NaN  NaN  NaN  NaN  NaN  NaN  NaN\n",
       "...     ...      ...   ...    ...       ...  ...  ...  ...  ...  ...  ...\n",
       "1995   Cook      Art  Geog  Sport  Business   IT  NaN  NaN  NaN  NaN  NaN\n",
       "1996    NaN      NaN   NaN    NaN       NaN  NaN  NaN  NaN  NaN  NaN  NaN\n",
       "1997    NaN      NaN   NaN    NaN       NaN  NaN  NaN  NaN  NaN  NaN  NaN\n",
       "1998   Cook      NaN   NaN    NaN       NaN  NaN  NaN  NaN  NaN  NaN  NaN\n",
       "1999    NaN      NaN   NaN    NaN       NaN  NaN  NaN  NaN  NaN  NaN  NaN\n",
       "\n",
       "[2000 rows x 11 columns]"
      ]
     },
     "execution_count": 9,
     "metadata": {},
     "output_type": "execute_result"
    }
   ],
   "source": [
    "# Replace None with NaN\n",
    "result_df = result_df.replace({None: np.nan})\n",
    "\n",
    "# Hiển thị kết quả\n",
    "result_df"
   ]
  },
  {
   "cell_type": "code",
   "execution_count": 10,
   "metadata": {},
   "outputs": [
    {
     "name": "stderr",
     "output_type": "stream",
     "text": [
      "  0%|          | 0/11 [00:00<?, ?it/s]"
     ]
    },
    {
     "name": "stderr",
     "output_type": "stream",
     "text": [
      "100%|██████████| 11/11 [00:00<00:00, 66.63it/s]\n",
      "100%|██████████| 11/11 [00:00<00:00, 2668.75it/s]\n",
      "100%|██████████| 11/11 [00:00<00:00, 572.82it/s]\n"
     ]
    },
    {
     "name": "stdout",
     "output_type": "stream",
     "text": [
      "Combination 1 by 1\n"
     ]
    },
    {
     "name": "stderr",
     "output_type": "stream",
     "text": [
      "9it [00:00, 122.94it/s]\n"
     ]
    },
    {
     "name": "stdout",
     "output_type": "stream",
     "text": [
      "Combination 2 by 2\n"
     ]
    },
    {
     "name": "stderr",
     "output_type": "stream",
     "text": [
      "36it [00:00, 165.34it/s]\n"
     ]
    },
    {
     "name": "stdout",
     "output_type": "stream",
     "text": [
      "Combination 3 by 3\n"
     ]
    },
    {
     "name": "stderr",
     "output_type": "stream",
     "text": [
      "84it [00:00, 158.78it/s]\n"
     ]
    },
    {
     "name": "stdout",
     "output_type": "stream",
     "text": [
      "Combination 4 by 4\n"
     ]
    },
    {
     "name": "stderr",
     "output_type": "stream",
     "text": [
      "126it [00:00, 225.02it/s]\n"
     ]
    },
    {
     "name": "stdout",
     "output_type": "stream",
     "text": [
      "Combination 5 by 5\n"
     ]
    },
    {
     "name": "stderr",
     "output_type": "stream",
     "text": [
      "126it [00:00, 196.34it/s]\n"
     ]
    },
    {
     "name": "stdout",
     "output_type": "stream",
     "text": [
      "Combination 6 by 6\n"
     ]
    },
    {
     "name": "stderr",
     "output_type": "stream",
     "text": [
      "84it [00:00, 123.60it/s]\n"
     ]
    },
    {
     "name": "stdout",
     "output_type": "stream",
     "text": [
      "Combination 7 by 7\n"
     ]
    },
    {
     "name": "stderr",
     "output_type": "stream",
     "text": [
      "36it [00:00, 137.59it/s]\n"
     ]
    },
    {
     "name": "stdout",
     "output_type": "stream",
     "text": [
      "Combination 8 by 8\n"
     ]
    },
    {
     "name": "stderr",
     "output_type": "stream",
     "text": [
      "9it [00:00, 113.78it/s]\n"
     ]
    },
    {
     "name": "stdout",
     "output_type": "stream",
     "text": [
      "Combination 9 by 9\n"
     ]
    },
    {
     "name": "stderr",
     "output_type": "stream",
     "text": [
      "1it [00:00, 92.17it/s]\n"
     ]
    },
    {
     "name": "stdout",
     "output_type": "stream",
     "text": [
      "Combination 10 by 10\n"
     ]
    },
    {
     "name": "stderr",
     "output_type": "stream",
     "text": [
      "0it [00:00, ?it/s]\n"
     ]
    },
    {
     "name": "stdout",
     "output_type": "stream",
     "text": [
      "Combination 11 by 11\n"
     ]
    },
    {
     "name": "stderr",
     "output_type": "stream",
     "text": [
      "0it [00:00, ?it/s]\n"
     ]
    }
   ],
   "source": [
    "eclat_instance = pe.ECLAT(data=result_df,verbose=True)\n",
    "# the item shoud appear at least at 5% of transactions\n",
    "min_support = 0.2\n",
    "# start from transactions containing at least 2 items\n",
    "min_combination = 1\n",
    "# up to maximum items per transaction\n",
    "max_combination = result_df.apply(lambda row: sum(row.notna()), axis=1).max()\n",
    "rule_indices, rule_supports = eclat_instance.fit(min_support=min_support, min_combination=min_combination, max_combination=max_combination, separator=' & ', verbose=True)"
   ]
  },
  {
   "cell_type": "code",
   "execution_count": 11,
   "metadata": {},
   "outputs": [
    {
     "name": "stdout",
     "output_type": "stream",
     "text": [
      "\n",
      "=== ECLAT - Các tập phổ biến ===\n"
     ]
    },
    {
     "data": {
      "text/html": [
       "<div>\n",
       "<style scoped>\n",
       "    .dataframe tbody tr th:only-of-type {\n",
       "        vertical-align: middle;\n",
       "    }\n",
       "\n",
       "    .dataframe tbody tr th {\n",
       "        vertical-align: top;\n",
       "    }\n",
       "\n",
       "    .dataframe thead th {\n",
       "        text-align: right;\n",
       "    }\n",
       "</style>\n",
       "<table border=\"1\" class=\"dataframe\">\n",
       "  <thead>\n",
       "    <tr style=\"text-align: right;\">\n",
       "      <th></th>\n",
       "      <th>Item</th>\n",
       "      <th>Support</th>\n",
       "    </tr>\n",
       "  </thead>\n",
       "  <tbody>\n",
       "    <tr>\n",
       "      <th>8</th>\n",
       "      <td>Cook</td>\n",
       "      <td>0.4310</td>\n",
       "    </tr>\n",
       "    <tr>\n",
       "      <th>5</th>\n",
       "      <td>Child</td>\n",
       "      <td>0.4230</td>\n",
       "    </tr>\n",
       "    <tr>\n",
       "      <th>7</th>\n",
       "      <td>Science</td>\n",
       "      <td>0.2820</td>\n",
       "    </tr>\n",
       "    <tr>\n",
       "      <th>6</th>\n",
       "      <td>Geog</td>\n",
       "      <td>0.2760</td>\n",
       "    </tr>\n",
       "    <tr>\n",
       "      <th>25</th>\n",
       "      <td>Child &amp; Cook</td>\n",
       "      <td>0.2560</td>\n",
       "    </tr>\n",
       "    <tr>\n",
       "      <th>4</th>\n",
       "      <td>Youth</td>\n",
       "      <td>0.2475</td>\n",
       "    </tr>\n",
       "    <tr>\n",
       "      <th>1</th>\n",
       "      <td>Art</td>\n",
       "      <td>0.2410</td>\n",
       "    </tr>\n",
       "    <tr>\n",
       "      <th>3</th>\n",
       "      <td>Music</td>\n",
       "      <td>0.2145</td>\n",
       "    </tr>\n",
       "    <tr>\n",
       "      <th>23</th>\n",
       "      <td>Child &amp; Geog</td>\n",
       "      <td>0.1950</td>\n",
       "    </tr>\n",
       "    <tr>\n",
       "      <th>27</th>\n",
       "      <td>Geog &amp; Cook</td>\n",
       "      <td>0.1925</td>\n",
       "    </tr>\n",
       "    <tr>\n",
       "      <th>28</th>\n",
       "      <td>Science &amp; Cook</td>\n",
       "      <td>0.1875</td>\n",
       "    </tr>\n",
       "    <tr>\n",
       "      <th>24</th>\n",
       "      <td>Child &amp; Science</td>\n",
       "      <td>0.1840</td>\n",
       "    </tr>\n",
       "    <tr>\n",
       "      <th>14</th>\n",
       "      <td>Art &amp; Cook</td>\n",
       "      <td>0.1670</td>\n",
       "    </tr>\n",
       "    <tr>\n",
       "      <th>19</th>\n",
       "      <td>Youth &amp; Child</td>\n",
       "      <td>0.1650</td>\n",
       "    </tr>\n",
       "    <tr>\n",
       "      <th>11</th>\n",
       "      <td>Art &amp; Child</td>\n",
       "      <td>0.1625</td>\n",
       "    </tr>\n",
       "    <tr>\n",
       "      <th>22</th>\n",
       "      <td>Youth &amp; Cook</td>\n",
       "      <td>0.1620</td>\n",
       "    </tr>\n",
       "    <tr>\n",
       "      <th>18</th>\n",
       "      <td>Music &amp; Cook</td>\n",
       "      <td>0.1525</td>\n",
       "    </tr>\n",
       "    <tr>\n",
       "      <th>15</th>\n",
       "      <td>Music &amp; Child</td>\n",
       "      <td>0.1515</td>\n",
       "    </tr>\n",
       "    <tr>\n",
       "      <th>36</th>\n",
       "      <td>Child &amp; Geog &amp; Cook</td>\n",
       "      <td>0.1495</td>\n",
       "    </tr>\n",
       "    <tr>\n",
       "      <th>37</th>\n",
       "      <td>Child &amp; Science &amp; Cook</td>\n",
       "      <td>0.1460</td>\n",
       "    </tr>\n",
       "    <tr>\n",
       "      <th>26</th>\n",
       "      <td>Geog &amp; Science</td>\n",
       "      <td>0.1325</td>\n",
       "    </tr>\n",
       "    <tr>\n",
       "      <th>34</th>\n",
       "      <td>Youth &amp; Child &amp; Cook</td>\n",
       "      <td>0.1290</td>\n",
       "    </tr>\n",
       "    <tr>\n",
       "      <th>12</th>\n",
       "      <td>Art &amp; Geog</td>\n",
       "      <td>0.1275</td>\n",
       "    </tr>\n",
       "    <tr>\n",
       "      <th>30</th>\n",
       "      <td>Art &amp; Child &amp; Cook</td>\n",
       "      <td>0.1265</td>\n",
       "    </tr>\n",
       "    <tr>\n",
       "      <th>13</th>\n",
       "      <td>Art &amp; Science</td>\n",
       "      <td>0.1235</td>\n",
       "    </tr>\n",
       "    <tr>\n",
       "      <th>33</th>\n",
       "      <td>Music &amp; Child &amp; Cook</td>\n",
       "      <td>0.1225</td>\n",
       "    </tr>\n",
       "    <tr>\n",
       "      <th>20</th>\n",
       "      <td>Youth &amp; Geog</td>\n",
       "      <td>0.1205</td>\n",
       "    </tr>\n",
       "    <tr>\n",
       "      <th>21</th>\n",
       "      <td>Youth &amp; Science</td>\n",
       "      <td>0.1155</td>\n",
       "    </tr>\n",
       "    <tr>\n",
       "      <th>0</th>\n",
       "      <td>Sport</td>\n",
       "      <td>0.1135</td>\n",
       "    </tr>\n",
       "    <tr>\n",
       "      <th>9</th>\n",
       "      <td>Sport &amp; Cook</td>\n",
       "      <td>0.1135</td>\n",
       "    </tr>\n",
       "    <tr>\n",
       "      <th>16</th>\n",
       "      <td>Music &amp; Geog</td>\n",
       "      <td>0.1105</td>\n",
       "    </tr>\n",
       "    <tr>\n",
       "      <th>2</th>\n",
       "      <td>IT</td>\n",
       "      <td>0.1085</td>\n",
       "    </tr>\n",
       "    <tr>\n",
       "      <th>38</th>\n",
       "      <td>Geog &amp; Science &amp; Cook</td>\n",
       "      <td>0.1085</td>\n",
       "    </tr>\n",
       "    <tr>\n",
       "      <th>17</th>\n",
       "      <td>Music &amp; Science</td>\n",
       "      <td>0.1055</td>\n",
       "    </tr>\n",
       "    <tr>\n",
       "      <th>35</th>\n",
       "      <td>Child &amp; Geog &amp; Science</td>\n",
       "      <td>0.1045</td>\n",
       "    </tr>\n",
       "    <tr>\n",
       "      <th>31</th>\n",
       "      <td>Art &amp; Geog &amp; Cook</td>\n",
       "      <td>0.1035</td>\n",
       "    </tr>\n",
       "    <tr>\n",
       "      <th>29</th>\n",
       "      <td>Art &amp; Child &amp; Geog</td>\n",
       "      <td>0.1020</td>\n",
       "    </tr>\n",
       "    <tr>\n",
       "      <th>32</th>\n",
       "      <td>Art &amp; Science &amp; Cook</td>\n",
       "      <td>0.1015</td>\n",
       "    </tr>\n",
       "    <tr>\n",
       "      <th>10</th>\n",
       "      <td>Art &amp; Youth</td>\n",
       "      <td>0.1010</td>\n",
       "    </tr>\n",
       "  </tbody>\n",
       "</table>\n",
       "</div>"
      ],
      "text/plain": [
       "                      Item  Support\n",
       "8                     Cook   0.4310\n",
       "5                    Child   0.4230\n",
       "7                  Science   0.2820\n",
       "6                     Geog   0.2760\n",
       "25            Child & Cook   0.2560\n",
       "4                    Youth   0.2475\n",
       "1                      Art   0.2410\n",
       "3                    Music   0.2145\n",
       "23            Child & Geog   0.1950\n",
       "27             Geog & Cook   0.1925\n",
       "28          Science & Cook   0.1875\n",
       "24         Child & Science   0.1840\n",
       "14              Art & Cook   0.1670\n",
       "19           Youth & Child   0.1650\n",
       "11             Art & Child   0.1625\n",
       "22            Youth & Cook   0.1620\n",
       "18            Music & Cook   0.1525\n",
       "15           Music & Child   0.1515\n",
       "36     Child & Geog & Cook   0.1495\n",
       "37  Child & Science & Cook   0.1460\n",
       "26          Geog & Science   0.1325\n",
       "34    Youth & Child & Cook   0.1290\n",
       "12              Art & Geog   0.1275\n",
       "30      Art & Child & Cook   0.1265\n",
       "13           Art & Science   0.1235\n",
       "33    Music & Child & Cook   0.1225\n",
       "20            Youth & Geog   0.1205\n",
       "21         Youth & Science   0.1155\n",
       "0                    Sport   0.1135\n",
       "9             Sport & Cook   0.1135\n",
       "16            Music & Geog   0.1105\n",
       "2                       IT   0.1085\n",
       "38   Geog & Science & Cook   0.1085\n",
       "17         Music & Science   0.1055\n",
       "35  Child & Geog & Science   0.1045\n",
       "31       Art & Geog & Cook   0.1035\n",
       "29      Art & Child & Geog   0.1020\n",
       "32    Art & Science & Cook   0.1015\n",
       "10             Art & Youth   0.1010"
      ]
     },
     "execution_count": 11,
     "metadata": {},
     "output_type": "execute_result"
    }
   ],
   "source": [
    "result = pd.DataFrame(rule_supports.items(),columns=['Item', 'Support'])\n",
    "print(\"\\n=== ECLAT - Các tập phổ biến ===\")\n",
    "result.sort_values(by=['Support'], ascending=False)"
   ]
  },
  {
   "cell_type": "markdown",
   "metadata": {},
   "source": [
    "# Comparison - Time Performance"
   ]
  },
  {
   "cell_type": "markdown",
   "metadata": {},
   "source": [
    "## Average time and time each loop counts (200 loops)"
   ]
  },
  {
   "cell_type": "code",
   "execution_count": 12,
   "metadata": {},
   "outputs": [
    {
     "name": "stderr",
     "output_type": "stream",
     "text": [
      "100%|██████████| 11/11 [00:00<00:00, 65.38it/s]\n",
      "100%|██████████| 11/11 [00:00<00:00, 945.48it/s]\n",
      "100%|██████████| 11/11 [00:00<00:00, 1291.53it/s]\n",
      "100%|██████████| 11/11 [00:00<00:00, 227.53it/s]\n",
      "100%|██████████| 11/11 [00:00<00:00, 4452.98it/s]\n",
      "100%|██████████| 11/11 [00:00<00:00, 1034.52it/s]\n",
      "100%|██████████| 11/11 [00:00<00:00, 201.85it/s]\n",
      "100%|██████████| 11/11 [00:00<00:00, 9203.54it/s]\n",
      "100%|██████████| 11/11 [00:00<00:00, 879.56it/s]\n",
      "100%|██████████| 11/11 [00:00<00:00, 227.29it/s]\n",
      "100%|██████████| 11/11 [00:00<00:00, 8545.54it/s]\n",
      "100%|██████████| 11/11 [00:00<00:00, 955.01it/s]\n",
      "100%|██████████| 11/11 [00:00<00:00, 62.46it/s]\n",
      "100%|██████████| 11/11 [00:00<00:00, 9433.11it/s]\n",
      "100%|██████████| 11/11 [00:00<00:00, 1021.82it/s]\n",
      "100%|██████████| 11/11 [00:00<00:00, 212.00it/s]\n",
      "100%|██████████| 11/11 [00:00<00:00, 3946.74it/s]\n",
      "100%|██████████| 11/11 [00:00<00:00, 913.09it/s]\n",
      "100%|██████████| 11/11 [00:00<00:00, 188.64it/s]\n",
      "100%|██████████| 11/11 [00:00<00:00, 9890.11it/s]\n",
      "100%|██████████| 11/11 [00:00<00:00, 1089.02it/s]\n",
      "100%|██████████| 11/11 [00:00<00:00, 200.42it/s]\n",
      "100%|██████████| 11/11 [00:00<00:00, 5569.45it/s]\n",
      "100%|██████████| 11/11 [00:00<00:00, 423.37it/s]\n",
      "100%|██████████| 11/11 [00:00<00:00, 44.99it/s]\n",
      "100%|██████████| 11/11 [00:00<00:00, 3747.65it/s]\n",
      "100%|██████████| 11/11 [00:00<00:00, 331.28it/s]\n",
      "100%|██████████| 11/11 [00:00<00:00, 152.06it/s]\n",
      "100%|██████████| 11/11 [00:00<00:00, 3368.92it/s]\n",
      "100%|██████████| 11/11 [00:00<00:00, 744.70it/s]\n",
      "100%|██████████| 11/11 [00:00<00:00, 122.63it/s]\n",
      "100%|██████████| 11/11 [00:00<00:00, 8662.66it/s]\n",
      "100%|██████████| 11/11 [00:00<00:00, 866.28it/s]\n",
      "100%|██████████| 11/11 [00:00<00:00, 46.78it/s]\n",
      "100%|██████████| 11/11 [00:00<00:00, 3365.97it/s]\n",
      "100%|██████████| 11/11 [00:00<00:00, 719.95it/s]\n",
      "100%|██████████| 11/11 [00:00<00:00, 118.08it/s]\n",
      "100%|██████████| 11/11 [00:00<00:00, 3000.41it/s]\n",
      "100%|██████████| 11/11 [00:00<00:00, 622.43it/s]\n",
      "100%|██████████| 11/11 [00:00<00:00, 160.61it/s]\n",
      "100%|██████████| 11/11 [00:00<00:00, 9900.72it/s]\n",
      "100%|██████████| 11/11 [00:00<00:00, 701.08it/s]\n",
      "100%|██████████| 11/11 [00:00<00:00, 55.58it/s]\n",
      "100%|██████████| 11/11 [00:00<00:00, 4876.07it/s]\n",
      "100%|██████████| 11/11 [00:00<00:00, 806.27it/s]\n",
      "100%|██████████| 11/11 [00:00<00:00, 46.23it/s]\n",
      "100%|██████████| 11/11 [00:00<00:00, 2231.66it/s]\n",
      "100%|██████████| 11/11 [00:00<00:00, 362.48it/s]\n",
      "100%|██████████| 11/11 [00:00<00:00, 107.68it/s]\n",
      "100%|██████████| 11/11 [00:00<00:00, 921.75it/s]\n",
      "100%|██████████| 11/11 [00:00<00:00, 643.76it/s]\n",
      "100%|██████████| 11/11 [00:00<00:00, 125.00it/s]\n",
      "100%|██████████| 11/11 [00:00<00:00, 2525.17it/s]\n",
      "100%|██████████| 11/11 [00:00<00:00, 746.73it/s]\n",
      "100%|██████████| 11/11 [00:00<00:00, 68.44it/s]\n",
      "100%|██████████| 11/11 [00:00<00:00, 5439.44it/s]\n",
      "100%|██████████| 11/11 [00:00<00:00, 195.22it/s]\n",
      "100%|██████████| 11/11 [00:00<00:00, 103.96it/s]\n",
      "100%|██████████| 11/11 [00:00<00:00, 4385.68it/s]\n",
      "100%|██████████| 11/11 [00:00<00:00, 771.01it/s]\n",
      "100%|██████████| 11/11 [00:00<00:00, 137.34it/s]\n",
      "100%|██████████| 11/11 [00:00<00:00, 5646.47it/s]\n",
      "100%|██████████| 11/11 [00:00<00:00, 1115.61it/s]\n",
      "100%|██████████| 11/11 [00:00<00:00, 168.65it/s]\n",
      "100%|██████████| 11/11 [00:00<00:00, 3405.72it/s]\n",
      "100%|██████████| 11/11 [00:00<00:00, 801.16it/s]\n",
      "100%|██████████| 11/11 [00:00<00:00, 216.47it/s]\n",
      "100%|██████████| 11/11 [00:00<00:00, 8979.63it/s]\n",
      "100%|██████████| 11/11 [00:00<00:00, 955.52it/s]\n",
      "100%|██████████| 11/11 [00:00<00:00, 198.83it/s]\n",
      "100%|██████████| 11/11 [00:00<00:00, 7437.91it/s]\n",
      "100%|██████████| 11/11 [00:00<00:00, 580.60it/s]\n",
      "100%|██████████| 11/11 [00:00<00:00, 55.59it/s]\n",
      "100%|██████████| 11/11 [00:00<00:00, 5478.19it/s]\n",
      "100%|██████████| 11/11 [00:00<00:00, 718.01it/s]\n",
      "100%|██████████| 11/11 [00:00<00:00, 68.72it/s]\n",
      "100%|██████████| 11/11 [00:00<00:00, 3434.37it/s]\n",
      "100%|██████████| 11/11 [00:00<00:00, 897.51it/s]\n",
      "100%|██████████| 11/11 [00:00<00:00, 77.65it/s]\n",
      "100%|██████████| 11/11 [00:00<00:00, 1687.11it/s]\n",
      "100%|██████████| 11/11 [00:00<00:00, 1436.00it/s]\n",
      "100%|██████████| 11/11 [00:00<00:00, 199.49it/s]\n",
      "100%|██████████| 11/11 [00:00<00:00, 9725.41it/s]\n",
      "100%|██████████| 11/11 [00:00<00:00, 750.03it/s]\n",
      "100%|██████████| 11/11 [00:00<00:00, 212.84it/s]\n",
      "100%|██████████| 11/11 [00:00<00:00, 9982.12it/s]\n",
      "100%|██████████| 11/11 [00:00<00:00, 829.45it/s]\n",
      "100%|██████████| 11/11 [00:00<00:00, 81.30it/s]\n",
      "100%|██████████| 11/11 [00:00<00:00, 816.75it/s]\n",
      "100%|██████████| 11/11 [00:00<00:00, 435.66it/s]\n",
      "100%|██████████| 11/11 [00:00<00:00, 144.67it/s]\n",
      "100%|██████████| 11/11 [00:00<00:00, 5617.60it/s]\n",
      "100%|██████████| 11/11 [00:00<00:00, 911.64it/s]\n",
      "100%|██████████| 11/11 [00:00<00:00, 177.70it/s]\n",
      "100%|██████████| 11/11 [00:00<00:00, 9700.87it/s]\n",
      "100%|██████████| 11/11 [00:00<00:00, 980.66it/s]\n",
      "100%|██████████| 11/11 [00:00<00:00, 216.62it/s]\n",
      "100%|██████████| 11/11 [00:00<00:00, 9919.88it/s]\n",
      "100%|██████████| 11/11 [00:00<00:00, 677.96it/s]\n",
      "100%|██████████| 11/11 [00:00<00:00, 206.04it/s]\n",
      "100%|██████████| 11/11 [00:00<00:00, 4380.27it/s]\n",
      "100%|██████████| 11/11 [00:00<00:00, 1028.70it/s]\n",
      "100%|██████████| 11/11 [00:00<00:00, 214.04it/s]\n",
      "100%|██████████| 11/11 [00:00<00:00, 9640.06it/s]\n",
      "100%|██████████| 11/11 [00:00<00:00, 1038.24it/s]\n",
      "100%|██████████| 11/11 [00:00<00:00, 221.52it/s]\n",
      "100%|██████████| 11/11 [00:00<00:00, 8862.34it/s]\n",
      "100%|██████████| 11/11 [00:00<00:00, 812.82it/s]\n",
      "100%|██████████| 11/11 [00:00<00:00, 224.87it/s]\n",
      "100%|██████████| 11/11 [00:00<00:00, 9623.98it/s]\n",
      "100%|██████████| 11/11 [00:00<00:00, 830.87it/s]\n",
      "100%|██████████| 11/11 [00:00<00:00, 220.50it/s]\n",
      "100%|██████████| 11/11 [00:00<00:00, 10036.40it/s]\n",
      "100%|██████████| 11/11 [00:00<00:00, 963.04it/s]\n",
      "100%|██████████| 11/11 [00:00<00:00, 213.18it/s]\n",
      "100%|██████████| 11/11 [00:00<00:00, 9831.10it/s]\n",
      "100%|██████████| 11/11 [00:00<00:00, 1051.61it/s]\n",
      "100%|██████████| 11/11 [00:00<00:00, 61.62it/s]\n",
      "100%|██████████| 11/11 [00:00<00:00, 8094.27it/s]\n",
      "100%|██████████| 11/11 [00:00<00:00, 730.87it/s]\n",
      "100%|██████████| 11/11 [00:00<00:00, 127.41it/s]\n",
      "100%|██████████| 11/11 [00:00<00:00, 9198.04it/s]\n",
      "100%|██████████| 11/11 [00:00<00:00, 576.73it/s]\n",
      "100%|██████████| 11/11 [00:00<00:00, 146.43it/s]\n",
      "100%|██████████| 11/11 [00:00<00:00, 4870.92it/s]\n",
      "100%|██████████| 11/11 [00:00<00:00, 753.28it/s]\n",
      "100%|██████████| 11/11 [00:00<00:00, 189.90it/s]\n",
      "100%|██████████| 11/11 [00:00<00:00, 8855.54it/s]\n",
      "100%|██████████| 11/11 [00:00<00:00, 733.58it/s]\n",
      "100%|██████████| 11/11 [00:00<00:00, 194.12it/s]\n",
      "100%|██████████| 11/11 [00:00<00:00, 8794.77it/s]\n",
      "100%|██████████| 11/11 [00:00<00:00, 859.58it/s]\n",
      "100%|██████████| 11/11 [00:00<00:00, 209.54it/s]\n",
      "100%|██████████| 11/11 [00:00<00:00, 9532.51it/s]\n",
      "100%|██████████| 11/11 [00:00<00:00, 984.58it/s]\n",
      "100%|██████████| 11/11 [00:00<00:00, 171.22it/s]\n",
      "100%|██████████| 11/11 [00:00<00:00, 2759.08it/s]\n",
      "100%|██████████| 11/11 [00:00<00:00, 466.76it/s]\n",
      "100%|██████████| 11/11 [00:00<00:00, 112.81it/s]\n",
      "100%|██████████| 11/11 [00:00<00:00, 1294.87it/s]\n",
      "100%|██████████| 11/11 [00:00<00:00, 516.16it/s]\n",
      "100%|██████████| 11/11 [00:00<00:00, 217.33it/s]\n",
      "100%|██████████| 11/11 [00:00<00:00, 4229.29it/s]\n",
      "100%|██████████| 11/11 [00:00<00:00, 1113.70it/s]\n",
      "100%|██████████| 11/11 [00:00<00:00, 174.82it/s]\n",
      "100%|██████████| 11/11 [00:00<00:00, 4614.20it/s]\n",
      "100%|██████████| 11/11 [00:00<00:00, 813.01it/s]\n",
      "100%|██████████| 11/11 [00:00<00:00, 209.51it/s]\n",
      "100%|██████████| 11/11 [00:00<00:00, 4519.28it/s]\n",
      "100%|██████████| 11/11 [00:00<00:00, 969.52it/s]\n",
      "100%|██████████| 11/11 [00:00<00:00, 225.30it/s]\n",
      "100%|██████████| 11/11 [00:00<00:00, 9992.93it/s]\n",
      "100%|██████████| 11/11 [00:00<00:00, 1056.35it/s]\n",
      "100%|██████████| 11/11 [00:00<00:00, 198.71it/s]\n",
      "100%|██████████| 11/11 [00:00<00:00, 6501.88it/s]\n",
      "100%|██████████| 11/11 [00:00<00:00, 877.12it/s]\n",
      "100%|██████████| 11/11 [00:00<00:00, 195.34it/s]\n",
      "100%|██████████| 11/11 [00:00<00:00, 2743.00it/s]\n",
      "100%|██████████| 11/11 [00:00<00:00, 760.20it/s]\n",
      "100%|██████████| 11/11 [00:00<00:00, 212.56it/s]\n",
      "100%|██████████| 11/11 [00:00<00:00, 10027.68it/s]\n",
      "100%|██████████| 11/11 [00:00<00:00, 950.23it/s]\n",
      "100%|██████████| 11/11 [00:00<00:00, 204.76it/s]\n",
      "100%|██████████| 11/11 [00:00<00:00, 9442.76it/s]\n",
      "100%|██████████| 11/11 [00:00<00:00, 718.75it/s]\n",
      "100%|██████████| 11/11 [00:00<00:00, 216.99it/s]\n",
      "100%|██████████| 11/11 [00:00<00:00, 9760.39it/s]\n",
      "100%|██████████| 11/11 [00:00<00:00, 838.78it/s]\n",
      "100%|██████████| 11/11 [00:00<00:00, 56.45it/s]\n",
      "100%|██████████| 11/11 [00:00<00:00, 5609.40it/s]\n",
      "100%|██████████| 11/11 [00:00<00:00, 551.19it/s]\n",
      "100%|██████████| 11/11 [00:00<00:00, 85.18it/s]\n",
      "100%|██████████| 11/11 [00:00<00:00, 4430.32it/s]\n",
      "100%|██████████| 11/11 [00:00<00:00, 1057.08it/s]\n",
      "100%|██████████| 11/11 [00:00<00:00, 62.59it/s]\n",
      "100%|██████████| 11/11 [00:00<00:00, 5519.48it/s]\n",
      "100%|██████████| 11/11 [00:00<00:00, 463.30it/s]\n",
      "100%|██████████| 11/11 [00:00<00:00, 195.16it/s]\n",
      "100%|██████████| 11/11 [00:00<00:00, 5434.96it/s]\n",
      "100%|██████████| 11/11 [00:00<00:00, 756.91it/s]\n",
      "100%|██████████| 11/11 [00:00<00:00, 43.96it/s]\n",
      "100%|██████████| 11/11 [00:00<00:00, 5991.86it/s]\n",
      "100%|██████████| 11/11 [00:00<00:00, 924.84it/s]\n",
      "100%|██████████| 11/11 [00:00<00:00, 68.47it/s]\n",
      "100%|██████████| 11/11 [00:00<00:00, 4921.84it/s]\n",
      "100%|██████████| 11/11 [00:00<00:00, 1273.70it/s]\n",
      "100%|██████████| 11/11 [00:00<00:00, 102.10it/s]\n",
      "100%|██████████| 11/11 [00:00<00:00, 2232.20it/s]\n",
      "100%|██████████| 11/11 [00:00<00:00, 1461.43it/s]\n",
      "100%|██████████| 11/11 [00:00<00:00, 184.22it/s]\n",
      "100%|██████████| 11/11 [00:00<00:00, 8841.96it/s]\n",
      "100%|██████████| 11/11 [00:00<00:00, 940.68it/s]\n",
      "100%|██████████| 11/11 [00:00<00:00, 161.11it/s]\n",
      "100%|██████████| 11/11 [00:00<00:00, 8467.12it/s]\n",
      "100%|██████████| 11/11 [00:00<00:00, 803.34it/s]\n",
      "100%|██████████| 11/11 [00:00<00:00, 204.84it/s]\n",
      "100%|██████████| 11/11 [00:00<00:00, 8899.95it/s]\n",
      "100%|██████████| 11/11 [00:00<00:00, 452.19it/s]\n",
      "100%|██████████| 11/11 [00:00<00:00, 119.63it/s]\n",
      "100%|██████████| 11/11 [00:00<00:00, 6023.94it/s]\n",
      "100%|██████████| 11/11 [00:00<00:00, 623.62it/s]\n",
      "100%|██████████| 11/11 [00:00<00:00, 41.72it/s]\n",
      "100%|██████████| 11/11 [00:00<00:00, 1752.67it/s]\n",
      "100%|██████████| 11/11 [00:00<00:00, 915.90it/s]\n",
      "100%|██████████| 11/11 [00:00<00:00, 101.27it/s]\n",
      "100%|██████████| 11/11 [00:00<00:00, 10001.59it/s]\n",
      "100%|██████████| 11/11 [00:00<00:00, 409.15it/s]\n",
      "100%|██████████| 11/11 [00:00<00:00, 118.37it/s]\n",
      "100%|██████████| 11/11 [00:00<00:00, 2944.50it/s]\n",
      "100%|██████████| 11/11 [00:00<00:00, 214.97it/s]\n",
      "100%|██████████| 11/11 [00:00<00:00, 179.17it/s]\n",
      "100%|██████████| 11/11 [00:00<00:00, 4639.72it/s]\n",
      "100%|██████████| 11/11 [00:00<00:00, 700.73it/s]\n",
      "100%|██████████| 11/11 [00:00<00:00, 167.40it/s]\n",
      "100%|██████████| 11/11 [00:00<00:00, 8077.27it/s]\n",
      "100%|██████████| 11/11 [00:00<00:00, 921.44it/s]\n",
      "100%|██████████| 11/11 [00:00<00:00, 196.58it/s]\n",
      "100%|██████████| 11/11 [00:00<00:00, 4554.53it/s]\n",
      "100%|██████████| 11/11 [00:00<00:00, 760.65it/s]\n",
      "100%|██████████| 11/11 [00:00<00:00, 106.44it/s]\n",
      "100%|██████████| 11/11 [00:00<00:00, 6575.08it/s]\n",
      "100%|██████████| 11/11 [00:00<00:00, 674.69it/s]\n",
      "100%|██████████| 11/11 [00:00<00:00, 110.76it/s]\n",
      "100%|██████████| 11/11 [00:00<00:00, 5061.69it/s]\n",
      "100%|██████████| 11/11 [00:00<00:00, 928.99it/s]\n",
      "100%|██████████| 11/11 [00:00<00:00, 98.44it/s]\n",
      "100%|██████████| 11/11 [00:00<00:00, 6874.88it/s]\n",
      "100%|██████████| 11/11 [00:00<00:00, 667.27it/s]\n",
      "100%|██████████| 11/11 [00:00<00:00, 163.55it/s]\n",
      "100%|██████████| 11/11 [00:00<00:00, 4013.34it/s]\n",
      "100%|██████████| 11/11 [00:00<00:00, 1367.11it/s]\n",
      "100%|██████████| 11/11 [00:00<00:00, 174.43it/s]\n",
      "100%|██████████| 11/11 [00:00<00:00, 8320.53it/s]\n",
      "100%|██████████| 11/11 [00:00<00:00, 836.97it/s]\n",
      "100%|██████████| 11/11 [00:00<00:00, 197.81it/s]\n",
      "100%|██████████| 11/11 [00:00<00:00, 9069.66it/s]\n",
      "100%|██████████| 11/11 [00:00<00:00, 887.46it/s]\n",
      "100%|██████████| 11/11 [00:00<00:00, 99.57it/s] \n",
      "100%|██████████| 11/11 [00:00<00:00, 718.67it/s]\n",
      "100%|██████████| 11/11 [00:00<00:00, 425.23it/s]\n",
      "100%|██████████| 11/11 [00:00<00:00, 203.46it/s]\n",
      "100%|██████████| 11/11 [00:00<00:00, 9433.11it/s]\n",
      "100%|██████████| 11/11 [00:00<00:00, 226.79it/s]\n",
      "100%|██████████| 11/11 [00:00<00:00, 90.68it/s]\n",
      "100%|██████████| 11/11 [00:00<00:00, 3089.21it/s]\n",
      "100%|██████████| 11/11 [00:00<00:00, 583.02it/s]\n",
      "100%|██████████| 11/11 [00:00<00:00, 210.65it/s]\n",
      "100%|██████████| 11/11 [00:00<00:00, 9313.15it/s]\n",
      "100%|██████████| 11/11 [00:00<00:00, 901.33it/s]\n",
      "100%|██████████| 11/11 [00:00<00:00, 158.82it/s]\n",
      "100%|██████████| 11/11 [00:00<00:00, 2036.70it/s]\n",
      "100%|██████████| 11/11 [00:00<00:00, 1108.96it/s]\n",
      "100%|██████████| 11/11 [00:00<00:00, 203.95it/s]\n",
      "100%|██████████| 11/11 [00:00<00:00, 6267.81it/s]\n",
      "100%|██████████| 11/11 [00:00<00:00, 849.03it/s]\n",
      "100%|██████████| 11/11 [00:00<00:00, 212.63it/s]\n",
      "100%|██████████| 11/11 [00:00<00:00, 8077.27it/s]\n",
      "100%|██████████| 11/11 [00:00<00:00, 1002.92it/s]\n",
      "100%|██████████| 11/11 [00:00<00:00, 192.48it/s]\n",
      "100%|██████████| 11/11 [00:00<00:00, 3649.82it/s]\n",
      "100%|██████████| 11/11 [00:00<00:00, 294.79it/s]\n",
      "100%|██████████| 11/11 [00:00<00:00, 125.96it/s]\n",
      "100%|██████████| 11/11 [00:00<00:00, 7763.31it/s]\n",
      "100%|██████████| 11/11 [00:00<00:00, 885.69it/s]\n",
      "100%|██████████| 11/11 [00:00<00:00, 203.35it/s]\n",
      "100%|██████████| 11/11 [00:00<00:00, 6257.61it/s]\n",
      "100%|██████████| 11/11 [00:00<00:00, 892.58it/s]\n",
      "100%|██████████| 11/11 [00:00<00:00, 198.42it/s]\n",
      "100%|██████████| 11/11 [00:00<00:00, 7777.70it/s]\n",
      "100%|██████████| 11/11 [00:00<00:00, 1685.01it/s]\n",
      "100%|██████████| 11/11 [00:00<00:00, 209.42it/s]\n",
      "100%|██████████| 11/11 [00:00<00:00, 4837.21it/s]\n",
      "100%|██████████| 11/11 [00:00<00:00, 1229.35it/s]\n",
      "100%|██████████| 11/11 [00:00<00:00, 129.55it/s]\n",
      "100%|██████████| 11/11 [00:00<00:00, 4795.48it/s]\n",
      "100%|██████████| 11/11 [00:00<00:00, 1052.23it/s]\n",
      "100%|██████████| 11/11 [00:00<00:00, 221.28it/s]\n",
      "100%|██████████| 11/11 [00:00<00:00, 9690.68it/s]\n",
      "100%|██████████| 11/11 [00:00<00:00, 1054.52it/s]\n",
      "100%|██████████| 11/11 [00:00<00:00, 190.53it/s]\n",
      "100%|██████████| 11/11 [00:00<00:00, 8628.64it/s]\n",
      "100%|██████████| 11/11 [00:00<00:00, 1626.73it/s]\n",
      "100%|██████████| 11/11 [00:00<00:00, 213.54it/s]\n",
      "100%|██████████| 11/11 [00:00<00:00, 10018.97it/s]\n",
      "100%|██████████| 11/11 [00:00<00:00, 869.56it/s]\n",
      "100%|██████████| 11/11 [00:00<00:00, 213.70it/s]\n",
      "100%|██████████| 11/11 [00:00<00:00, 4389.43it/s]\n",
      "100%|██████████| 11/11 [00:00<00:00, 825.58it/s]\n",
      "100%|██████████| 11/11 [00:00<00:00, 213.60it/s]\n",
      "100%|██████████| 11/11 [00:00<00:00, 9046.54it/s]\n",
      "100%|██████████| 11/11 [00:00<00:00, 834.91it/s]\n",
      "100%|██████████| 11/11 [00:00<00:00, 206.36it/s]\n",
      "100%|██████████| 11/11 [00:00<00:00, 2975.45it/s]\n",
      "100%|██████████| 11/11 [00:00<00:00, 1091.70it/s]\n",
      "100%|██████████| 11/11 [00:00<00:00, 70.12it/s]\n",
      "100%|██████████| 11/11 [00:00<00:00, 2543.40it/s]\n",
      "100%|██████████| 11/11 [00:00<00:00, 1043.93it/s]\n",
      "100%|██████████| 11/11 [00:00<00:00, 222.90it/s]\n",
      "100%|██████████| 11/11 [00:00<00:00, 10036.40it/s]\n",
      "100%|██████████| 11/11 [00:00<00:00, 790.29it/s]\n",
      "100%|██████████| 11/11 [00:00<00:00, 151.28it/s]\n",
      "100%|██████████| 11/11 [00:00<00:00, 2088.14it/s]\n",
      "100%|██████████| 11/11 [00:00<00:00, 754.26it/s]\n",
      "100%|██████████| 11/11 [00:00<00:00, 198.13it/s]\n",
      "100%|██████████| 11/11 [00:00<00:00, 9650.15it/s]\n",
      "100%|██████████| 11/11 [00:00<00:00, 139.53it/s]\n",
      "100%|██████████| 11/11 [00:00<00:00, 155.67it/s]\n",
      "100%|██████████| 11/11 [00:00<00:00, 9803.94it/s]\n",
      "100%|██████████| 11/11 [00:00<00:00, 969.66it/s]\n",
      "100%|██████████| 11/11 [00:00<00:00, 202.32it/s]\n",
      "100%|██████████| 11/11 [00:00<00:00, 2798.41it/s]\n",
      "100%|██████████| 11/11 [00:00<00:00, 1176.49it/s]\n",
      "100%|██████████| 11/11 [00:00<00:00, 210.52it/s]\n",
      "100%|██████████| 11/11 [00:00<00:00, 9360.39it/s]\n",
      "100%|██████████| 11/11 [00:00<00:00, 1005.94it/s]\n",
      "100%|██████████| 11/11 [00:00<00:00, 212.00it/s]\n",
      "100%|██████████| 11/11 [00:00<00:00, 9613.95it/s]\n",
      "100%|██████████| 11/11 [00:00<00:00, 867.72it/s]\n",
      "100%|██████████| 11/11 [00:00<00:00, 219.55it/s]\n",
      "100%|██████████| 11/11 [00:00<00:00, 7982.24it/s]\n",
      "100%|██████████| 11/11 [00:00<00:00, 870.73it/s]\n",
      "100%|██████████| 11/11 [00:00<00:00, 173.13it/s]\n",
      "100%|██████████| 11/11 [00:00<00:00, 9016.48it/s]\n",
      "100%|██████████| 11/11 [00:00<00:00, 694.84it/s]\n",
      "100%|██████████| 11/11 [00:00<00:00, 45.70it/s]\n",
      "100%|██████████| 11/11 [00:00<00:00, 9599.95it/s]\n",
      "100%|██████████| 11/11 [00:00<00:00, 728.58it/s]\n",
      "100%|██████████| 11/11 [00:00<00:00, 181.20it/s]\n",
      "100%|██████████| 11/11 [00:00<00:00, 9964.87it/s]\n",
      "100%|██████████| 11/11 [00:00<00:00, 825.95it/s]\n",
      "100%|██████████| 11/11 [00:00<00:00, 204.57it/s]\n",
      "100%|██████████| 11/11 [00:00<00:00, 9335.76it/s]\n",
      "100%|██████████| 11/11 [00:00<00:00, 822.12it/s]\n",
      "100%|██████████| 11/11 [00:00<00:00, 215.11it/s]\n",
      "100%|██████████| 11/11 [00:00<00:00, 9014.72it/s]\n",
      "100%|██████████| 11/11 [00:00<00:00, 754.62it/s]\n",
      "100%|██████████| 11/11 [00:00<00:00, 212.44it/s]\n",
      "100%|██████████| 11/11 [00:00<00:00, 8991.88it/s]\n",
      "100%|██████████| 11/11 [00:00<00:00, 844.79it/s]\n",
      "100%|██████████| 11/11 [00:00<00:00, 198.80it/s]\n",
      "100%|██████████| 11/11 [00:00<00:00, 8572.53it/s]\n",
      "100%|██████████| 11/11 [00:00<00:00, 750.95it/s]\n",
      "100%|██████████| 11/11 [00:00<00:00, 179.37it/s]\n",
      "100%|██████████| 11/11 [00:00<00:00, 8756.38it/s]\n",
      "100%|██████████| 11/11 [00:00<00:00, 1032.96it/s]\n",
      "100%|██████████| 11/11 [00:00<00:00, 183.78it/s]\n",
      "100%|██████████| 11/11 [00:00<00:00, 4237.45it/s]\n",
      "100%|██████████| 11/11 [00:00<00:00, 805.75it/s]\n",
      "100%|██████████| 11/11 [00:00<00:00, 187.68it/s]\n",
      "100%|██████████| 11/11 [00:00<00:00, 2720.68it/s]\n",
      "100%|██████████| 11/11 [00:00<00:00, 1680.10it/s]\n",
      "100%|██████████| 11/11 [00:00<00:00, 132.95it/s]\n",
      "100%|██████████| 11/11 [00:00<00:00, 5200.92it/s]\n",
      "100%|██████████| 11/11 [00:00<00:00, 749.18it/s]\n",
      "100%|██████████| 11/11 [00:00<00:00, 166.07it/s]\n",
      "100%|██████████| 11/11 [00:00<00:00, 9733.62it/s]\n",
      "100%|██████████| 11/11 [00:00<00:00, 658.36it/s]\n",
      "100%|██████████| 11/11 [00:00<00:00, 190.04it/s]\n",
      "100%|██████████| 11/11 [00:00<00:00, 3373.11it/s]\n",
      "100%|██████████| 11/11 [00:00<00:00, 1116.61it/s]\n",
      "100%|██████████| 11/11 [00:00<00:00, 217.57it/s]\n",
      "100%|██████████| 11/11 [00:00<00:00, 6088.33it/s]\n",
      "100%|██████████| 11/11 [00:00<00:00, 888.81it/s]\n",
      "100%|██████████| 11/11 [00:00<00:00, 195.59it/s]\n",
      "100%|██████████| 11/11 [00:00<00:00, 7524.03it/s]\n",
      "100%|██████████| 11/11 [00:00<00:00, 1048.00it/s]\n",
      "100%|██████████| 11/11 [00:00<00:00, 215.97it/s]\n",
      "100%|██████████| 11/11 [00:00<00:00, 10018.97it/s]\n",
      "100%|██████████| 11/11 [00:00<00:00, 800.41it/s]\n",
      "100%|██████████| 11/11 [00:00<00:00, 212.16it/s]\n",
      "100%|██████████| 11/11 [00:00<00:00, 453.10it/s]\n",
      "100%|██████████| 11/11 [00:00<00:00, 702.61it/s]\n",
      "100%|██████████| 11/11 [00:00<00:00, 216.89it/s]\n",
      "100%|██████████| 11/11 [00:00<00:00, 7431.92it/s]\n",
      "100%|██████████| 11/11 [00:00<00:00, 1033.06it/s]\n",
      "100%|██████████| 11/11 [00:00<00:00, 205.20it/s]\n",
      "100%|██████████| 11/11 [00:00<00:00, 5844.61it/s]\n",
      "100%|██████████| 11/11 [00:00<00:00, 919.57it/s]\n",
      "100%|██████████| 11/11 [00:00<00:00, 200.22it/s]\n",
      "100%|██████████| 11/11 [00:00<00:00, 7785.58it/s]\n",
      "100%|██████████| 11/11 [00:00<00:00, 846.56it/s]\n",
      "100%|██████████| 11/11 [00:00<00:00, 217.09it/s]\n",
      "100%|██████████| 11/11 [00:00<00:00, 9127.07it/s]\n",
      "100%|██████████| 11/11 [00:00<00:00, 873.42it/s]\n",
      "100%|██████████| 11/11 [00:00<00:00, 213.04it/s]\n",
      "100%|██████████| 11/11 [00:00<00:00, 9591.96it/s]\n",
      "100%|██████████| 11/11 [00:00<00:00, 932.14it/s]\n",
      "100%|██████████| 11/11 [00:00<00:00, 210.12it/s]\n",
      "100%|██████████| 11/11 [00:00<00:00, 7850.49it/s]\n",
      "100%|██████████| 11/11 [00:00<00:00, 1047.41it/s]\n",
      "100%|██████████| 11/11 [00:00<00:00, 41.32it/s]\n",
      "100%|██████████| 11/11 [00:00<00:00, 5125.80it/s]\n",
      "100%|██████████| 11/11 [00:00<00:00, 633.56it/s]\n",
      "100%|██████████| 11/11 [00:00<00:00, 123.56it/s]\n",
      "100%|██████████| 11/11 [00:00<00:00, 8035.07it/s]\n",
      "100%|██████████| 11/11 [00:00<00:00, 391.45it/s]\n",
      "100%|██████████| 11/11 [00:00<00:00, 189.70it/s]\n",
      "100%|██████████| 11/11 [00:00<00:00, 4671.19it/s]\n",
      "100%|██████████| 11/11 [00:00<00:00, 959.04it/s]\n",
      "100%|██████████| 11/11 [00:00<00:00, 222.47it/s]\n",
      "100%|██████████| 11/11 [00:00<00:00, 8442.33it/s]\n",
      "100%|██████████| 11/11 [00:00<00:00, 1031.21it/s]\n",
      "100%|██████████| 11/11 [00:00<00:00, 145.11it/s]\n",
      "100%|██████████| 11/11 [00:00<00:00, 7014.95it/s]\n",
      "100%|██████████| 11/11 [00:00<00:00, 612.75it/s]\n",
      "100%|██████████| 11/11 [00:00<00:00, 80.21it/s]\n",
      "100%|██████████| 11/11 [00:00<00:00, 4171.55it/s]\n",
      "100%|██████████| 11/11 [00:00<00:00, 267.33it/s]\n",
      "100%|██████████| 11/11 [00:00<00:00, 169.81it/s]\n",
      "100%|██████████| 11/11 [00:00<00:00, 3978.04it/s]\n",
      "100%|██████████| 11/11 [00:00<00:00, 1132.29it/s]\n",
      "100%|██████████| 11/11 [00:00<00:00, 152.12it/s]\n",
      "100%|██████████| 11/11 [00:00<00:00, 1389.09it/s]\n",
      "100%|██████████| 11/11 [00:00<00:00, 467.49it/s]\n",
      "100%|██████████| 11/11 [00:00<00:00, 112.40it/s]\n",
      "100%|██████████| 11/11 [00:00<00:00, 8049.08it/s]\n",
      "100%|██████████| 11/11 [00:00<00:00, 973.20it/s]\n",
      "100%|██████████| 11/11 [00:00<00:00, 71.61it/s]\n",
      "100%|██████████| 11/11 [00:00<00:00, 5530.73it/s]\n",
      "100%|██████████| 11/11 [00:00<00:00, 864.90it/s]\n",
      "100%|██████████| 11/11 [00:00<00:00, 178.68it/s]\n",
      "100%|██████████| 11/11 [00:00<00:00, 2840.97it/s]\n",
      "100%|██████████| 11/11 [00:00<00:00, 1199.03it/s]\n",
      "100%|██████████| 11/11 [00:00<00:00, 176.02it/s]\n",
      "100%|██████████| 11/11 [00:00<00:00, 7198.84it/s]\n",
      "100%|██████████| 11/11 [00:00<00:00, 796.69it/s]\n",
      "100%|██████████| 11/11 [00:00<00:00, 205.05it/s]\n",
      "100%|██████████| 11/11 [00:00<00:00, 9812.28it/s]\n",
      "100%|██████████| 11/11 [00:00<00:00, 1007.70it/s]\n",
      "100%|██████████| 11/11 [00:00<00:00, 206.74it/s]\n",
      "100%|██████████| 11/11 [00:00<00:00, 8911.98it/s]\n",
      "100%|██████████| 11/11 [00:00<00:00, 864.51it/s]\n",
      "100%|██████████| 11/11 [00:00<00:00, 105.51it/s]\n",
      "100%|██████████| 11/11 [00:00<00:00, 6425.81it/s]\n",
      "100%|██████████| 11/11 [00:00<00:00, 587.67it/s]\n",
      "100%|██████████| 11/11 [00:00<00:00, 200.07it/s]\n",
      "100%|██████████| 11/11 [00:00<00:00, 5863.18it/s]\n",
      "100%|██████████| 11/11 [00:00<00:00, 763.95it/s]\n",
      "100%|██████████| 11/11 [00:00<00:00, 194.18it/s]\n",
      "100%|██████████| 11/11 [00:00<00:00, 9709.04it/s]\n",
      "100%|██████████| 11/11 [00:00<00:00, 911.28it/s]\n",
      "100%|██████████| 11/11 [00:00<00:00, 132.77it/s]\n",
      "100%|██████████| 11/11 [00:00<00:00, 8569.34it/s]\n",
      "100%|██████████| 11/11 [00:00<00:00, 631.68it/s]\n",
      "100%|██████████| 11/11 [00:00<00:00, 185.58it/s]\n",
      "100%|██████████| 11/11 [00:00<00:00, 10120.06it/s]\n",
      "100%|██████████| 11/11 [00:00<00:00, 675.85it/s]\n",
      "100%|██████████| 11/11 [00:00<00:00, 211.38it/s]\n",
      "100%|██████████| 11/11 [00:00<00:00, 9385.14it/s]\n",
      "100%|██████████| 11/11 [00:00<00:00, 1314.87it/s]\n",
      "100%|██████████| 11/11 [00:00<00:00, 196.49it/s]\n",
      "100%|██████████| 11/11 [00:00<00:00, 10091.28it/s]\n",
      "100%|██████████| 11/11 [00:00<00:00, 908.36it/s]\n",
      "100%|██████████| 11/11 [00:00<00:00, 220.39it/s]\n",
      "100%|██████████| 11/11 [00:00<00:00, 9812.28it/s]\n",
      "100%|██████████| 11/11 [00:00<00:00, 829.26it/s]\n",
      "100%|██████████| 11/11 [00:00<00:00, 213.53it/s]\n",
      "100%|██████████| 11/11 [00:00<00:00, 9883.75it/s]\n",
      "100%|██████████| 11/11 [00:00<00:00, 800.63it/s]\n",
      "100%|██████████| 11/11 [00:00<00:00, 208.80it/s]\n",
      "100%|██████████| 11/11 [00:00<00:00, 9900.72it/s]\n",
      "100%|██████████| 11/11 [00:00<00:00, 868.12it/s]\n",
      "100%|██████████| 11/11 [00:00<00:00, 210.01it/s]\n",
      "100%|██████████| 11/11 [00:00<00:00, 10036.40it/s]\n",
      "100%|██████████| 11/11 [00:00<00:00, 1286.99it/s]\n",
      "100%|██████████| 11/11 [00:00<00:00, 191.90it/s]\n",
      "100%|██████████| 11/11 [00:00<00:00, 9831.10it/s]\n",
      "100%|██████████| 11/11 [00:00<00:00, 1039.01it/s]\n",
      "100%|██████████| 11/11 [00:00<00:00, 217.48it/s]\n",
      "100%|██████████| 11/11 [00:00<00:00, 9656.20it/s]\n",
      "100%|██████████| 11/11 [00:00<00:00, 966.79it/s]\n",
      "100%|██████████| 11/11 [00:00<00:00, 217.11it/s]\n",
      "100%|██████████| 11/11 [00:00<00:00, 8778.03it/s]\n",
      "100%|██████████| 11/11 [00:00<00:00, 950.97it/s]\n",
      "100%|██████████| 11/11 [00:00<00:00, 216.08it/s]\n",
      "100%|██████████| 11/11 [00:00<00:00, 9717.22it/s]\n",
      "100%|██████████| 11/11 [00:00<00:00, 1222.18it/s]\n",
      "100%|██████████| 11/11 [00:00<00:00, 168.57it/s]\n",
      "100%|██████████| 11/11 [00:00<00:00, 9883.75it/s]\n",
      "100%|██████████| 11/11 [00:00<00:00, 631.59it/s]\n",
      "100%|██████████| 11/11 [00:00<00:00, 226.66it/s]\n",
      "100%|██████████| 11/11 [00:00<00:00, 4358.34it/s]\n",
      "100%|██████████| 11/11 [00:00<00:00, 823.48it/s]\n",
      "100%|██████████| 11/11 [00:00<00:00, 217.39it/s]\n",
      "100%|██████████| 11/11 [00:00<00:00, 4547.79it/s]\n",
      "100%|██████████| 11/11 [00:00<00:00, 831.81it/s]\n",
      "100%|██████████| 11/11 [00:00<00:00, 207.06it/s]\n",
      "100%|██████████| 11/11 [00:00<00:00, 6482.70it/s]\n",
      "100%|██████████| 11/11 [00:00<00:00, 813.72it/s]\n",
      "100%|██████████| 11/11 [00:00<00:00, 200.25it/s]\n",
      "100%|██████████| 11/11 [00:00<00:00, 8196.37it/s]\n",
      "100%|██████████| 11/11 [00:00<00:00, 1778.48it/s]\n",
      "100%|██████████| 11/11 [00:00<00:00, 148.94it/s]\n",
      "100%|██████████| 11/11 [00:00<00:00, 5603.95it/s]\n",
      "100%|██████████| 11/11 [00:00<00:00, 560.65it/s]\n",
      "100%|██████████| 11/11 [00:00<00:00, 193.20it/s]\n",
      "100%|██████████| 11/11 [00:00<00:00, 8259.46it/s]\n",
      "100%|██████████| 11/11 [00:00<00:00, 1098.14it/s]\n",
      "100%|██████████| 11/11 [00:00<00:00, 215.02it/s]\n",
      "100%|██████████| 11/11 [00:00<00:00, 10374.94it/s]\n",
      "100%|██████████| 11/11 [00:00<00:00, 834.91it/s]\n",
      "100%|██████████| 11/11 [00:00<00:00, 217.67it/s]\n",
      "100%|██████████| 11/11 [00:00<00:00, 7050.33it/s]\n",
      "100%|██████████| 11/11 [00:00<00:00, 948.94it/s]\n",
      "100%|██████████| 11/11 [00:00<00:00, 211.80it/s]\n",
      "100%|██████████| 11/11 [00:00<00:00, 9442.76it/s]\n",
      "100%|██████████| 11/11 [00:00<00:00, 851.71it/s]\n",
      "100%|██████████| 11/11 [00:00<00:00, 206.81it/s]\n",
      "100%|██████████| 11/11 [00:00<00:00, 4522.83it/s]\n",
      "100%|██████████| 11/11 [00:00<00:00, 905.43it/s]\n",
      "100%|██████████| 11/11 [00:00<00:00, 207.97it/s]\n",
      "100%|██████████| 11/11 [00:00<00:00, 9847.89it/s]\n",
      "100%|██████████| 11/11 [00:00<00:00, 1397.72it/s]\n",
      "100%|██████████| 11/11 [00:00<00:00, 82.18it/s]\n",
      "100%|██████████| 11/11 [00:00<00:00, 6482.70it/s]\n",
      "100%|██████████| 11/11 [00:00<00:00, 946.76it/s]\n",
      "100%|██████████| 11/11 [00:00<00:00, 172.02it/s]\n",
      "100%|██████████| 11/11 [00:00<00:00, 4631.33it/s]\n",
      "100%|██████████| 11/11 [00:00<00:00, 915.39it/s]\n",
      "100%|██████████| 11/11 [00:00<00:00, 203.88it/s]\n",
      "100%|██████████| 11/11 [00:00<00:00, 6261.00it/s]\n",
      "100%|██████████| 11/11 [00:00<00:00, 833.07it/s]\n",
      "100%|██████████| 11/11 [00:00<00:00, 196.38it/s]\n",
      "100%|██████████| 11/11 [00:00<00:00, 2238.48it/s]\n",
      "100%|██████████| 11/11 [00:00<00:00, 363.06it/s]\n",
      "100%|██████████| 11/11 [00:00<00:00, 110.84it/s]\n",
      "100%|██████████| 11/11 [00:00<00:00, 1788.06it/s]\n",
      "100%|██████████| 11/11 [00:00<00:00, 631.24it/s]\n",
      "100%|██████████| 11/11 [00:00<00:00, 124.70it/s]\n",
      "100%|██████████| 11/11 [00:00<00:00, 3331.46it/s]\n",
      "100%|██████████| 11/11 [00:00<00:00, 811.86it/s]\n",
      "100%|██████████| 11/11 [00:00<00:00, 97.26it/s]\n",
      "100%|██████████| 11/11 [00:00<00:00, 4843.82it/s]\n",
      "100%|██████████| 11/11 [00:00<00:00, 932.99it/s]\n",
      "100%|██████████| 11/11 [00:00<00:00, 198.39it/s]\n",
      "100%|██████████| 11/11 [00:00<00:00, 10008.10it/s]\n",
      "100%|██████████| 11/11 [00:00<00:00, 943.31it/s]\n",
      "100%|██████████| 11/11 [00:00<00:00, 210.91it/s]\n",
      "100%|██████████| 11/11 [00:00<00:00, 10117.84it/s]\n",
      "100%|██████████| 11/11 [00:00<00:00, 1122.54it/s]\n",
      "100%|██████████| 11/11 [00:00<00:00, 202.43it/s]\n",
      "100%|██████████| 11/11 [00:00<00:00, 9613.95it/s]\n",
      "100%|██████████| 11/11 [00:00<00:00, 970.19it/s]\n",
      "100%|██████████| 11/11 [00:00<00:00, 212.41it/s]\n",
      "100%|██████████| 11/11 [00:00<00:00, 4783.05it/s]\n",
      "100%|██████████| 11/11 [00:00<00:00, 934.03it/s]\n",
      "100%|██████████| 11/11 [00:00<00:00, 222.81it/s]\n",
      "100%|██████████| 11/11 [00:00<00:00, 7554.83it/s]\n",
      "100%|██████████| 11/11 [00:00<00:00, 312.69it/s]\n",
      "100%|██████████| 11/11 [00:00<00:00, 228.96it/s]\n",
      "100%|██████████| 11/11 [00:00<00:00, 6090.74it/s]\n",
      "100%|██████████| 11/11 [00:00<00:00, 1305.16it/s]\n",
      "100%|██████████| 11/11 [00:00<00:00, 206.48it/s]\n",
      "100%|██████████| 11/11 [00:00<00:00, 9540.39it/s]\n",
      "100%|██████████| 11/11 [00:00<00:00, 858.18it/s]\n",
      "100%|██████████| 11/11 [00:00<00:00, 210.93it/s]\n",
      "100%|██████████| 11/11 [00:00<00:00, 9356.59it/s]\n",
      "100%|██████████| 11/11 [00:00<00:00, 1041.19it/s]\n",
      "100%|██████████| 11/11 [00:00<00:00, 223.05it/s]\n",
      "100%|██████████| 11/11 [00:00<00:00, 9919.88it/s]\n",
      "100%|██████████| 11/11 [00:00<00:00, 1091.70it/s]\n",
      "100%|██████████| 11/11 [00:00<00:00, 209.88it/s]\n",
      "100%|██████████| 11/11 [00:00<00:00, 8965.67it/s]\n",
      "100%|██████████| 11/11 [00:00<00:00, 871.35it/s]\n",
      "100%|██████████| 11/11 [00:00<00:00, 197.77it/s]\n",
      "100%|██████████| 11/11 [00:00<00:00, 8448.52it/s]\n",
      "100%|██████████| 11/11 [00:00<00:00, 900.77it/s]\n",
      "100%|██████████| 11/11 [00:00<00:00, 205.29it/s]\n",
      "100%|██████████| 11/11 [00:00<00:00, 9425.40it/s]\n",
      "100%|██████████| 11/11 [00:00<00:00, 75.65it/s]\n",
      "100%|██████████| 11/11 [00:00<00:00, 225.33it/s]\n",
      "100%|██████████| 11/11 [00:00<00:00, 7194.35it/s]\n",
      "100%|██████████| 11/11 [00:00<00:00, 936.72it/s]\n",
      "100%|██████████| 11/11 [00:00<00:00, 213.32it/s]\n",
      "100%|██████████| 11/11 [00:00<00:00, 7688.28it/s]\n",
      "100%|██████████| 11/11 [00:00<00:00, 1239.02it/s]\n",
      "100%|██████████| 11/11 [00:00<00:00, 204.10it/s]\n",
      "100%|██████████| 11/11 [00:00<00:00, 9928.41it/s]\n",
      "100%|██████████| 11/11 [00:00<00:00, 975.19it/s]\n",
      "100%|██████████| 11/11 [00:00<00:00, 215.33it/s]\n",
      "100%|██████████| 11/11 [00:00<00:00, 10062.67it/s]\n",
      "100%|██████████| 11/11 [00:00<00:00, 815.72it/s]\n",
      "100%|██████████| 11/11 [00:00<00:00, 225.41it/s]\n",
      "100%|██████████| 11/11 [00:00<00:00, 9597.95it/s]\n",
      "100%|██████████| 11/11 [00:00<00:00, 1395.23it/s]\n",
      "100%|██████████| 11/11 [00:00<00:00, 214.61it/s]\n",
      "100%|██████████| 11/11 [00:00<00:00, 8040.67it/s]\n",
      "100%|██████████| 11/11 [00:00<00:00, 970.27it/s]\n",
      "100%|██████████| 11/11 [00:00<00:00, 206.57it/s]\n",
      "100%|██████████| 11/11 [00:00<00:00, 4124.56it/s]\n",
      "100%|██████████| 11/11 [00:00<00:00, 764.20it/s]\n",
      "100%|██████████| 11/11 [00:00<00:00, 210.30it/s]\n",
      "100%|██████████| 11/11 [00:00<00:00, 9632.01it/s]\n",
      "100%|██████████| 11/11 [00:00<00:00, 880.63it/s]\n",
      "100%|██████████| 11/11 [00:00<00:00, 218.22it/s]\n",
      "100%|██████████| 11/11 [00:00<00:00, 10056.09it/s]\n",
      "100%|██████████| 11/11 [00:00<00:00, 942.81it/s]\n",
      "100%|██████████| 11/11 [00:00<00:00, 211.82it/s]\n",
      "100%|██████████| 11/11 [00:00<00:00, 8365.79it/s]\n",
      "100%|██████████| 11/11 [00:00<00:00, 1075.69it/s]\n"
     ]
    }
   ],
   "source": [
    "loop = 200\n",
    "apriori_time = []\n",
    "fpgrowth_time = []\n",
    "eclat_time = []\n",
    "for i in range(loop):\n",
    "    #Time of ECLAT\n",
    "    eclat_start = time.time()\n",
    "    eclat_instance = pe.ECLAT(data=result_df,verbose=True)\n",
    "    # rules_ind, rule_sup = eclat_instance.fit(min_support=min_support, min_combination=min_combination, max_combination=max_combination, separator=' & ', verbose=True)\n",
    "    eclat_end = time.time()\n",
    "    eclat_time.append(eclat_end - eclat_start)\n",
    "    \n",
    "    #Time of FP-Growth\n",
    "    fpgrowth_start = time.time()\n",
    "    fpgrowth_instance = fpgrowth(books, min_support=0.2, use_colnames=True)\n",
    "    fpgrowth_end = time.time()\n",
    "    fpgrowth_time.append(fpgrowth_end - fpgrowth_start)\n",
    "\n",
    "    \n",
    "    #Time of Apriori\n",
    "    apriori_start = time.time()\n",
    "    apriori_instance = apriori(apriori_data, min_support=0.2, use_colnames=True)\n",
    "    apriori_end = time.time()\n",
    "    apriori_time.append(apriori_end - apriori_start)\n",
    "\n",
    "\n"
   ]
  },
  {
   "cell_type": "code",
   "execution_count": 13,
   "metadata": {},
   "outputs": [
    {
     "name": "stdout",
     "output_type": "stream",
     "text": [
      "apriori average time: 0.006071116924285889\n",
      "fp-growth average time: 0.040378711223602294\n",
      "eclat average time: 0.14048216938972474\n"
     ]
    },
    {
     "data": {
      "text/plain": [
       "Text(0.5, 1.0, 'Thời gian chạy của ECLAT, Apriori và FP-Growth với số vòng lặp tăng')"
      ]
     },
     "execution_count": 13,
     "metadata": {},
     "output_type": "execute_result"
    },
    {
     "data": {
      "image/png": "[encoded data removed]",
      "text/plain": [
       "<Figure size 1000x800 with 1 Axes>"
      ]
     },
     "metadata": {},
     "output_type": "display_data"
    }
   ],
   "source": [
    "# Calculate moving averages for smoothing\n",
    "window = 25 # Adjust window size for desired smoothness\n",
    "eclat_smooth = pd.Series(eclat_time).rolling(window=window).mean()\n",
    "fpgrowth_smooth = pd.Series(fpgrowth_time).rolling(window=window).mean()\n",
    "apriori_smooth = pd.Series(apriori_time).rolling(window=window).mean()\n",
    "\n",
    "print('apriori average time:', sum(apriori_time) / len(apriori_time))\n",
    "print('fp-growth average time:', sum(fpgrowth_time) / len(fpgrowth_time))\n",
    "print('eclat average time:', sum(eclat_time) / len(eclat_time))\n",
    "\n",
    "plt.figure(figsize=(10,8))\n",
    "plt.plot(range(loop), eclat_smooth, label='ECLAT', linewidth=2)\n",
    "plt.plot(range(loop), fpgrowth_smooth, label='FP-Growth', linewidth=2)\n",
    "plt.plot(range(loop), apriori_smooth, label='Apriori', linewidth=2)\n",
    "plt.legend()\n",
    "plt.xlabel('Số vòng lặp')\n",
    "plt.ylabel('Thời gian (seconds)')\n",
    "plt.title('Thời gian chạy của ECLAT, Apriori và FP-Growth với số vòng lặp tăng')"
   ]
  },
  {
   "cell_type": "markdown",
   "metadata": {},
   "source": [
    "## When dataset size increases"
   ]
  },
  {
   "cell_type": "code",
   "execution_count": 14,
   "metadata": {},
   "outputs": [],
   "source": [
    "dataset_size = [size for size in range(100, books.shape[0], 100)]"
   ]
  },
  {
   "cell_type": "code",
   "execution_count": 15,
   "metadata": {},
   "outputs": [
    {
     "name": "stderr",
     "output_type": "stream",
     "text": [
      "100%|██████████| 11/11 [00:00<00:00, 293.10it/s]\n",
      "100%|██████████| 11/11 [00:00<00:00, 28799.84it/s]\n",
      "100%|██████████| 11/11 [00:00<00:00, 1735.86it/s]\n",
      "100%|██████████| 11/11 [00:00<00:00, 284.16it/s]\n",
      "100%|██████████| 11/11 [00:00<00:00, 39980.37it/s]\n",
      "100%|██████████| 11/11 [00:00<00:00, 2150.93it/s]\n",
      "100%|██████████| 11/11 [00:00<00:00, 181.21it/s]\n",
      "100%|██████████| 11/11 [00:00<00:00, 19369.16it/s]\n",
      "100%|██████████| 11/11 [00:00<00:00, 1714.70it/s]\n",
      "100%|██████████| 11/11 [00:00<00:00, 260.41it/s]\n",
      "100%|██████████| 11/11 [00:00<00:00, 29163.93it/s]\n",
      "100%|██████████| 11/11 [00:00<00:00, 1660.39it/s]\n",
      "100%|██████████| 11/11 [00:00<00:00, 281.05it/s]\n",
      "100%|██████████| 11/11 [00:00<00:00, 25518.44it/s]\n",
      "100%|██████████| 11/11 [00:00<00:00, 1570.47it/s]\n",
      "100%|██████████| 11/11 [00:00<00:00, 276.36it/s]\n",
      "100%|██████████| 11/11 [00:00<00:00, 6100.40it/s]\n",
      "100%|██████████| 11/11 [00:00<00:00, 1257.42it/s]\n",
      "100%|██████████| 11/11 [00:00<00:00, 236.18it/s]\n",
      "100%|██████████| 11/11 [00:00<00:00, 6285.74it/s]\n",
      "100%|██████████| 11/11 [00:00<00:00, 2133.81it/s]\n",
      "100%|██████████| 11/11 [00:00<00:00, 253.01it/s]\n",
      "100%|██████████| 11/11 [00:00<00:00, 18551.40it/s]\n",
      "100%|██████████| 11/11 [00:00<00:00, 1286.56it/s]\n",
      "100%|██████████| 11/11 [00:00<00:00, 234.93it/s]\n",
      "100%|██████████| 11/11 [00:00<00:00, 5819.54it/s]\n",
      "100%|██████████| 11/11 [00:00<00:00, 1652.66it/s]\n",
      "100%|██████████| 11/11 [00:00<00:00, 220.54it/s]\n",
      "100%|██████████| 11/11 [00:00<00:00, 17138.69it/s]\n",
      "100%|██████████| 11/11 [00:00<00:00, 1186.97it/s]\n",
      "100%|██████████| 11/11 [00:00<00:00, 224.88it/s]\n",
      "100%|██████████| 11/11 [00:00<00:00, 3357.89it/s]\n",
      "100%|██████████| 11/11 [00:00<00:00, 1403.25it/s]\n",
      "100%|██████████| 11/11 [00:00<00:00, 201.77it/s]\n",
      "100%|██████████| 11/11 [00:00<00:00, 4090.92it/s]\n",
      "100%|██████████| 11/11 [00:00<00:00, 597.08it/s]\n",
      "100%|██████████| 11/11 [00:00<00:00, 210.01it/s]\n",
      "100%|██████████| 11/11 [00:00<00:00, 2318.11it/s]\n",
      "100%|██████████| 11/11 [00:00<00:00, 675.34it/s]\n",
      "100%|██████████| 11/11 [00:00<00:00, 69.34it/s]\n",
      "100%|██████████| 11/11 [00:00<00:00, 3203.31it/s]\n",
      "100%|██████████| 11/11 [00:00<00:00, 279.77it/s]\n",
      "100%|██████████| 11/11 [00:00<00:00, 91.96it/s]\n",
      "100%|██████████| 11/11 [00:00<00:00, 5860.94it/s]\n",
      "100%|██████████| 11/11 [00:00<00:00, 654.26it/s]\n",
      "100%|██████████| 11/11 [00:00<00:00, 119.55it/s]\n",
      "100%|██████████| 11/11 [00:00<00:00, 4986.20it/s]\n",
      "100%|██████████| 11/11 [00:00<00:00, 686.05it/s]\n",
      "100%|██████████| 11/11 [00:00<00:00, 174.13it/s]\n",
      "100%|██████████| 11/11 [00:00<00:00, 10774.72it/s]\n",
      "100%|██████████| 11/11 [00:00<00:00, 405.93it/s]\n",
      "100%|██████████| 11/11 [00:00<00:00, 133.97it/s]\n",
      "100%|██████████| 11/11 [00:00<00:00, 5971.70it/s]\n",
      "100%|██████████| 11/11 [00:00<00:00, 502.44it/s]\n",
      "100%|██████████| 11/11 [00:00<00:00, 74.75it/s]\n",
      "100%|██████████| 11/11 [00:00<00:00, 812.18it/s]\n",
      "100%|██████████| 11/11 [00:00<00:00, 600.60it/s]\n"
     ]
    }
   ],
   "source": [
    "apriori_time_size = []\n",
    "fpgrowth_time_size = []\n",
    "eclat_time_size = []\n",
    "for size in dataset_size:\n",
    "    #Time of FP-Growth\n",
    "    fpgrowth_start = time.time()\n",
    "    fpgrowth_instance = fpgrowth(books.iloc[:size], min_support=0.2, use_colnames=True)\n",
    "    fpgrowth_end = time.time()\n",
    "    fpgrowth_time_size.append(fpgrowth_end - fpgrowth_start)\n",
    "\n",
    "    #Time of ECLAT\n",
    "    eclat_start = time.time()\n",
    "    eclat_instance = pe.ECLAT(data=result_df.iloc[:size],verbose=True)\n",
    "    # rules_ind, rule_sup = eclat_instance.fit(min_support=min_support, min_combination=min_combination, max_combination=max_combination, separator=' & ', verbose=True)\n",
    "    eclat_end = time.time()\n",
    "    eclat_time_size.append(eclat_end - eclat_start)\n",
    "    \n",
    "    #Time of Apriori\n",
    "    apriori_start = time.time()\n",
    "    apriori_instance = apriori(apriori_data.iloc[:size], min_support=0.2, use_colnames=True)\n",
    "    apriori_end = time.time()\n",
    "    apriori_time_size.append(apriori_end - apriori_start)"
   ]
  },
  {
   "cell_type": "code",
   "execution_count": 16,
   "metadata": {},
   "outputs": [
    {
     "name": "stdout",
     "output_type": "stream",
     "text": [
      "apriori average time: 0.007611651169626336\n",
      "fp-growth average time: 0.02764289002669485\n",
      "eclat average time: 0.13662490091825785\n"
     ]
    },
    {
     "data": {
      "text/plain": [
       "Text(0.5, 1.0, 'Thời gian chạy của ECLAT, Apriori và FP-Growth khi tăng kích thước dữ liệu')"
      ]
     },
     "execution_count": 16,
     "metadata": {},
     "output_type": "execute_result"
    },
    {
     "data": {
      "image/png": "[encoded data removed]",
      "text/plain": [
       "<Figure size 1000x800 with 1 Axes>"
      ]
     },
     "metadata": {},
     "output_type": "display_data"
    }
   ],
   "source": [
    "print('apriori average time:', sum(apriori_time_size) / len(apriori_time_size))\n",
    "print('fp-growth average time:', sum(fpgrowth_time_size) / len(fpgrowth_time_size))\n",
    "print('eclat average time:', sum(eclat_time_size) / len(eclat_time_size))\n",
    "\n",
    "plt.figure(figsize=(10,8))\n",
    "plt.plot(dataset_size, eclat_time_size, label='ECLAT', linewidth=2)\n",
    "plt.plot(dataset_size, fpgrowth_time_size, label='FP-Growth', linewidth=2)\n",
    "plt.plot(dataset_size, apriori_time_size, label='Apriori', linewidth=2)\n",
    "plt.legend()\n",
    "plt.xlabel('Kích thước dataset')\n",
    "plt.ylabel('Thời gian (seconds)')\n",
    "plt.title('Thời gian chạy của ECLAT, Apriori và FP-Growth khi tăng kích thước dữ liệu')"
   ]
  },
  {
   "cell_type": "markdown",
   "metadata": {},
   "source": [
    "## When minimum support increases"
   ]
  },
  {
   "cell_type": "code",
   "execution_count": 17,
   "metadata": {},
   "outputs": [],
   "source": [
    "minSup = np.arange(0, 1, 0.1)[1:] #Start from 1: to remove the 0 becasue 0 will take all the combination of itemsets"
   ]
  },
  {
   "cell_type": "code",
   "execution_count": 18,
   "metadata": {},
   "outputs": [
    {
     "name": "stderr",
     "output_type": "stream",
     "text": [
      "100%|██████████| 11/11 [00:00<00:00, 211.01it/s]\n",
      "100%|██████████| 11/11 [00:00<00:00, 7850.49it/s]\n",
      "100%|██████████| 11/11 [00:00<00:00, 1038.15it/s]\n"
     ]
    },
    {
     "name": "stdout",
     "output_type": "stream",
     "text": [
      "Combination 1 by 1\n"
     ]
    },
    {
     "name": "stderr",
     "output_type": "stream",
     "text": [
      "9it [00:00, 148.46it/s]\n"
     ]
    },
    {
     "name": "stdout",
     "output_type": "stream",
     "text": [
      "Combination 2 by 2\n"
     ]
    },
    {
     "name": "stderr",
     "output_type": "stream",
     "text": [
      "36it [00:00, 179.88it/s]\n"
     ]
    },
    {
     "name": "stdout",
     "output_type": "stream",
     "text": [
      "Combination 3 by 3\n"
     ]
    },
    {
     "name": "stderr",
     "output_type": "stream",
     "text": [
      "84it [00:00, 224.82it/s]\n"
     ]
    },
    {
     "name": "stdout",
     "output_type": "stream",
     "text": [
      "Combination 4 by 4\n"
     ]
    },
    {
     "name": "stderr",
     "output_type": "stream",
     "text": [
      "126it [00:00, 225.87it/s]\n"
     ]
    },
    {
     "name": "stdout",
     "output_type": "stream",
     "text": [
      "Combination 5 by 5\n"
     ]
    },
    {
     "name": "stderr",
     "output_type": "stream",
     "text": [
      "126it [00:00, 208.26it/s]\n"
     ]
    },
    {
     "name": "stdout",
     "output_type": "stream",
     "text": [
      "Combination 6 by 6\n"
     ]
    },
    {
     "name": "stderr",
     "output_type": "stream",
     "text": [
      "84it [00:00, 186.72it/s]\n"
     ]
    },
    {
     "name": "stdout",
     "output_type": "stream",
     "text": [
      "Combination 7 by 7\n"
     ]
    },
    {
     "name": "stderr",
     "output_type": "stream",
     "text": [
      "36it [00:00, 165.76it/s]\n"
     ]
    },
    {
     "name": "stdout",
     "output_type": "stream",
     "text": [
      "Combination 8 by 8\n"
     ]
    },
    {
     "name": "stderr",
     "output_type": "stream",
     "text": [
      "9it [00:00, 136.81it/s]\n"
     ]
    },
    {
     "name": "stdout",
     "output_type": "stream",
     "text": [
      "Combination 9 by 9\n"
     ]
    },
    {
     "name": "stderr",
     "output_type": "stream",
     "text": [
      "1it [00:00, 72.78it/s]\n"
     ]
    },
    {
     "name": "stdout",
     "output_type": "stream",
     "text": [
      "Combination 10 by 10\n"
     ]
    },
    {
     "name": "stderr",
     "output_type": "stream",
     "text": [
      "0it [00:00, ?it/s]\n"
     ]
    },
    {
     "name": "stdout",
     "output_type": "stream",
     "text": [
      "Combination 11 by 11\n"
     ]
    },
    {
     "name": "stderr",
     "output_type": "stream",
     "text": [
      "0it [00:00, ?it/s]\n",
      "100%|██████████| 11/11 [00:00<00:00, 123.26it/s]\n",
      "100%|██████████| 11/11 [00:00<00:00, 5020.93it/s]\n",
      "100%|██████████| 11/11 [00:00<00:00, 847.35it/s]\n"
     ]
    },
    {
     "name": "stdout",
     "output_type": "stream",
     "text": [
      "Combination 1 by 1\n"
     ]
    },
    {
     "name": "stderr",
     "output_type": "stream",
     "text": [
      "7it [00:00, 147.52it/s]\n"
     ]
    },
    {
     "name": "stdout",
     "output_type": "stream",
     "text": [
      "Combination 2 by 2\n"
     ]
    },
    {
     "name": "stderr",
     "output_type": "stream",
     "text": [
      "21it [00:00, 252.36it/s]\n"
     ]
    },
    {
     "name": "stdout",
     "output_type": "stream",
     "text": [
      "Combination 3 by 3\n"
     ]
    },
    {
     "name": "stderr",
     "output_type": "stream",
     "text": [
      "35it [00:00, 247.98it/s]\n"
     ]
    },
    {
     "name": "stdout",
     "output_type": "stream",
     "text": [
      "Combination 4 by 4\n"
     ]
    },
    {
     "name": "stderr",
     "output_type": "stream",
     "text": [
      "35it [00:00, 211.28it/s]\n"
     ]
    },
    {
     "name": "stdout",
     "output_type": "stream",
     "text": [
      "Combination 5 by 5\n"
     ]
    },
    {
     "name": "stderr",
     "output_type": "stream",
     "text": [
      "21it [00:00, 192.21it/s]\n"
     ]
    },
    {
     "name": "stdout",
     "output_type": "stream",
     "text": [
      "Combination 6 by 6\n"
     ]
    },
    {
     "name": "stderr",
     "output_type": "stream",
     "text": [
      "7it [00:00, 178.36it/s]\n"
     ]
    },
    {
     "name": "stdout",
     "output_type": "stream",
     "text": [
      "Combination 7 by 7\n"
     ]
    },
    {
     "name": "stderr",
     "output_type": "stream",
     "text": [
      "1it [00:00, 138.12it/s]\n"
     ]
    },
    {
     "name": "stdout",
     "output_type": "stream",
     "text": [
      "Combination 8 by 8\n"
     ]
    },
    {
     "name": "stderr",
     "output_type": "stream",
     "text": [
      "0it [00:00, ?it/s]\n"
     ]
    },
    {
     "name": "stdout",
     "output_type": "stream",
     "text": [
      "Combination 9 by 9\n"
     ]
    },
    {
     "name": "stderr",
     "output_type": "stream",
     "text": [
      "0it [00:00, ?it/s]\n"
     ]
    },
    {
     "name": "stdout",
     "output_type": "stream",
     "text": [
      "Combination 10 by 10\n"
     ]
    },
    {
     "name": "stderr",
     "output_type": "stream",
     "text": [
      "0it [00:00, ?it/s]\n"
     ]
    },
    {
     "name": "stdout",
     "output_type": "stream",
     "text": [
      "Combination 11 by 11\n"
     ]
    },
    {
     "name": "stderr",
     "output_type": "stream",
     "text": [
      "0it [00:00, ?it/s]\n",
      "100%|██████████| 11/11 [00:00<00:00, 112.02it/s]\n",
      "100%|██████████| 11/11 [00:00<00:00, 3393.95it/s]\n",
      "100%|██████████| 11/11 [00:00<00:00, 966.51it/s]\n"
     ]
    },
    {
     "name": "stdout",
     "output_type": "stream",
     "text": [
      "Combination 1 by 1\n"
     ]
    },
    {
     "name": "stderr",
     "output_type": "stream",
     "text": [
      "2it [00:00, 119.24it/s]\n"
     ]
    },
    {
     "name": "stdout",
     "output_type": "stream",
     "text": [
      "Combination 2 by 2\n"
     ]
    },
    {
     "name": "stderr",
     "output_type": "stream",
     "text": [
      "1it [00:00, 228.42it/s]\n"
     ]
    },
    {
     "name": "stdout",
     "output_type": "stream",
     "text": [
      "Combination 3 by 3\n"
     ]
    },
    {
     "name": "stderr",
     "output_type": "stream",
     "text": [
      "0it [00:00, ?it/s]\n"
     ]
    },
    {
     "name": "stdout",
     "output_type": "stream",
     "text": [
      "Combination 4 by 4\n"
     ]
    },
    {
     "name": "stderr",
     "output_type": "stream",
     "text": [
      "0it [00:00, ?it/s]\n"
     ]
    },
    {
     "name": "stdout",
     "output_type": "stream",
     "text": [
      "Combination 5 by 5\n"
     ]
    },
    {
     "name": "stderr",
     "output_type": "stream",
     "text": [
      "0it [00:00, ?it/s]\n"
     ]
    },
    {
     "name": "stdout",
     "output_type": "stream",
     "text": [
      "Combination 6 by 6\n"
     ]
    },
    {
     "name": "stderr",
     "output_type": "stream",
     "text": [
      "0it [00:00, ?it/s]\n"
     ]
    },
    {
     "name": "stdout",
     "output_type": "stream",
     "text": [
      "Combination 7 by 7\n"
     ]
    },
    {
     "name": "stderr",
     "output_type": "stream",
     "text": [
      "0it [00:00, ?it/s]\n"
     ]
    },
    {
     "name": "stdout",
     "output_type": "stream",
     "text": [
      "Combination 8 by 8\n"
     ]
    },
    {
     "name": "stderr",
     "output_type": "stream",
     "text": [
      "0it [00:00, ?it/s]\n"
     ]
    },
    {
     "name": "stdout",
     "output_type": "stream",
     "text": [
      "Combination 9 by 9\n"
     ]
    },
    {
     "name": "stderr",
     "output_type": "stream",
     "text": [
      "0it [00:00, ?it/s]\n"
     ]
    },
    {
     "name": "stdout",
     "output_type": "stream",
     "text": [
      "Combination 10 by 10\n"
     ]
    },
    {
     "name": "stderr",
     "output_type": "stream",
     "text": [
      "0it [00:00, ?it/s]\n"
     ]
    },
    {
     "name": "stdout",
     "output_type": "stream",
     "text": [
      "Combination 11 by 11\n"
     ]
    },
    {
     "name": "stderr",
     "output_type": "stream",
     "text": [
      "0it [00:00, ?it/s]\n",
      "100%|██████████| 11/11 [00:00<00:00, 153.52it/s]\n",
      "100%|██████████| 11/11 [00:00<00:00, 2150.12it/s]\n",
      "100%|██████████| 11/11 [00:00<00:00, 669.47it/s]\n"
     ]
    },
    {
     "name": "stdout",
     "output_type": "stream",
     "text": [
      "Combination 1 by 1\n"
     ]
    },
    {
     "name": "stderr",
     "output_type": "stream",
     "text": [
      "2it [00:00, 155.11it/s]\n"
     ]
    },
    {
     "name": "stdout",
     "output_type": "stream",
     "text": [
      "Combination 2 by 2\n"
     ]
    },
    {
     "name": "stderr",
     "output_type": "stream",
     "text": [
      "1it [00:00, 98.61it/s]\n"
     ]
    },
    {
     "name": "stdout",
     "output_type": "stream",
     "text": [
      "Combination 3 by 3\n"
     ]
    },
    {
     "name": "stderr",
     "output_type": "stream",
     "text": [
      "0it [00:00, ?it/s]\n"
     ]
    },
    {
     "name": "stdout",
     "output_type": "stream",
     "text": [
      "Combination 4 by 4\n"
     ]
    },
    {
     "name": "stderr",
     "output_type": "stream",
     "text": [
      "0it [00:00, ?it/s]\n"
     ]
    },
    {
     "name": "stdout",
     "output_type": "stream",
     "text": [
      "Combination 5 by 5\n"
     ]
    },
    {
     "name": "stderr",
     "output_type": "stream",
     "text": [
      "0it [00:00, ?it/s]\n"
     ]
    },
    {
     "name": "stdout",
     "output_type": "stream",
     "text": [
      "Combination 6 by 6\n"
     ]
    },
    {
     "name": "stderr",
     "output_type": "stream",
     "text": [
      "0it [00:00, ?it/s]\n"
     ]
    },
    {
     "name": "stdout",
     "output_type": "stream",
     "text": [
      "Combination 7 by 7\n"
     ]
    },
    {
     "name": "stderr",
     "output_type": "stream",
     "text": [
      "0it [00:00, ?it/s]\n"
     ]
    },
    {
     "name": "stdout",
     "output_type": "stream",
     "text": [
      "Combination 8 by 8\n"
     ]
    },
    {
     "name": "stderr",
     "output_type": "stream",
     "text": [
      "0it [00:00, ?it/s]\n"
     ]
    },
    {
     "name": "stdout",
     "output_type": "stream",
     "text": [
      "Combination 9 by 9\n"
     ]
    },
    {
     "name": "stderr",
     "output_type": "stream",
     "text": [
      "0it [00:00, ?it/s]\n"
     ]
    },
    {
     "name": "stdout",
     "output_type": "stream",
     "text": [
      "Combination 10 by 10\n"
     ]
    },
    {
     "name": "stderr",
     "output_type": "stream",
     "text": [
      "0it [00:00, ?it/s]\n"
     ]
    },
    {
     "name": "stdout",
     "output_type": "stream",
     "text": [
      "Combination 11 by 11\n"
     ]
    },
    {
     "name": "stderr",
     "output_type": "stream",
     "text": [
      "0it [00:00, ?it/s]\n",
      "100%|██████████| 11/11 [00:00<00:00, 207.86it/s]\n",
      "100%|██████████| 11/11 [00:00<00:00, 9273.84it/s]\n",
      "100%|██████████| 11/11 [00:00<00:00, 1099.35it/s]\n"
     ]
    },
    {
     "name": "stdout",
     "output_type": "stream",
     "text": [
      "Combination 1 by 1\n"
     ]
    },
    {
     "name": "stderr",
     "output_type": "stream",
     "text": [
      "0it [00:00, ?it/s]\n"
     ]
    },
    {
     "name": "stdout",
     "output_type": "stream",
     "text": [
      "Combination 2 by 2\n"
     ]
    },
    {
     "name": "stderr",
     "output_type": "stream",
     "text": [
      "0it [00:00, ?it/s]\n"
     ]
    },
    {
     "name": "stdout",
     "output_type": "stream",
     "text": [
      "Combination 3 by 3\n"
     ]
    },
    {
     "name": "stderr",
     "output_type": "stream",
     "text": [
      "0it [00:00, ?it/s]\n"
     ]
    },
    {
     "name": "stdout",
     "output_type": "stream",
     "text": [
      "Combination 4 by 4\n"
     ]
    },
    {
     "name": "stderr",
     "output_type": "stream",
     "text": [
      "0it [00:00, ?it/s]\n"
     ]
    },
    {
     "name": "stdout",
     "output_type": "stream",
     "text": [
      "Combination 5 by 5\n"
     ]
    },
    {
     "name": "stderr",
     "output_type": "stream",
     "text": [
      "0it [00:00, ?it/s]\n"
     ]
    },
    {
     "name": "stdout",
     "output_type": "stream",
     "text": [
      "Combination 6 by 6\n"
     ]
    },
    {
     "name": "stderr",
     "output_type": "stream",
     "text": [
      "0it [00:00, ?it/s]\n"
     ]
    },
    {
     "name": "stdout",
     "output_type": "stream",
     "text": [
      "Combination 7 by 7\n"
     ]
    },
    {
     "name": "stderr",
     "output_type": "stream",
     "text": [
      "0it [00:00, ?it/s]\n"
     ]
    },
    {
     "name": "stdout",
     "output_type": "stream",
     "text": [
      "Combination 8 by 8\n"
     ]
    },
    {
     "name": "stderr",
     "output_type": "stream",
     "text": [
      "0it [00:00, ?it/s]\n"
     ]
    },
    {
     "name": "stdout",
     "output_type": "stream",
     "text": [
      "Combination 9 by 9\n"
     ]
    },
    {
     "name": "stderr",
     "output_type": "stream",
     "text": [
      "0it [00:00, ?it/s]\n"
     ]
    },
    {
     "name": "stdout",
     "output_type": "stream",
     "text": [
      "Combination 10 by 10\n"
     ]
    },
    {
     "name": "stderr",
     "output_type": "stream",
     "text": [
      "0it [00:00, ?it/s]\n"
     ]
    },
    {
     "name": "stdout",
     "output_type": "stream",
     "text": [
      "Combination 11 by 11\n"
     ]
    },
    {
     "name": "stderr",
     "output_type": "stream",
     "text": [
      "0it [00:00, ?it/s]\n",
      "100%|██████████| 11/11 [00:00<00:00, 162.65it/s]\n",
      "100%|██████████| 11/11 [00:00<00:00, 5290.98it/s]\n",
      "100%|██████████| 11/11 [00:00<00:00, 912.51it/s]\n"
     ]
    },
    {
     "name": "stdout",
     "output_type": "stream",
     "text": [
      "Combination 1 by 1\n"
     ]
    },
    {
     "name": "stderr",
     "output_type": "stream",
     "text": [
      "0it [00:00, ?it/s]\n"
     ]
    },
    {
     "name": "stdout",
     "output_type": "stream",
     "text": [
      "Combination 2 by 2\n"
     ]
    },
    {
     "name": "stderr",
     "output_type": "stream",
     "text": [
      "0it [00:00, ?it/s]\n"
     ]
    },
    {
     "name": "stdout",
     "output_type": "stream",
     "text": [
      "Combination 3 by 3\n"
     ]
    },
    {
     "name": "stderr",
     "output_type": "stream",
     "text": [
      "0it [00:00, ?it/s]\n"
     ]
    },
    {
     "name": "stdout",
     "output_type": "stream",
     "text": [
      "Combination 4 by 4\n"
     ]
    },
    {
     "name": "stderr",
     "output_type": "stream",
     "text": [
      "0it [00:00, ?it/s]\n"
     ]
    },
    {
     "name": "stdout",
     "output_type": "stream",
     "text": [
      "Combination 5 by 5\n"
     ]
    },
    {
     "name": "stderr",
     "output_type": "stream",
     "text": [
      "0it [00:00, ?it/s]\n"
     ]
    },
    {
     "name": "stdout",
     "output_type": "stream",
     "text": [
      "Combination 6 by 6\n"
     ]
    },
    {
     "name": "stderr",
     "output_type": "stream",
     "text": [
      "0it [00:00, ?it/s]\n"
     ]
    },
    {
     "name": "stdout",
     "output_type": "stream",
     "text": [
      "Combination 7 by 7\n"
     ]
    },
    {
     "name": "stderr",
     "output_type": "stream",
     "text": [
      "0it [00:00, ?it/s]\n"
     ]
    },
    {
     "name": "stdout",
     "output_type": "stream",
     "text": [
      "Combination 8 by 8\n"
     ]
    },
    {
     "name": "stderr",
     "output_type": "stream",
     "text": [
      "0it [00:00, ?it/s]\n"
     ]
    },
    {
     "name": "stdout",
     "output_type": "stream",
     "text": [
      "Combination 9 by 9\n"
     ]
    },
    {
     "name": "stderr",
     "output_type": "stream",
     "text": [
      "0it [00:00, ?it/s]\n"
     ]
    },
    {
     "name": "stdout",
     "output_type": "stream",
     "text": [
      "Combination 10 by 10\n"
     ]
    },
    {
     "name": "stderr",
     "output_type": "stream",
     "text": [
      "0it [00:00, ?it/s]\n"
     ]
    },
    {
     "name": "stdout",
     "output_type": "stream",
     "text": [
      "Combination 11 by 11\n"
     ]
    },
    {
     "name": "stderr",
     "output_type": "stream",
     "text": [
      "0it [00:00, ?it/s]\n",
      "100%|██████████| 11/11 [00:00<00:00, 101.69it/s]\n",
      "100%|██████████| 11/11 [00:00<00:00, 2575.06it/s]\n",
      "100%|██████████| 11/11 [00:00<00:00, 1589.57it/s]\n"
     ]
    },
    {
     "name": "stdout",
     "output_type": "stream",
     "text": [
      "Combination 1 by 1\n"
     ]
    },
    {
     "name": "stderr",
     "output_type": "stream",
     "text": [
      "0it [00:00, ?it/s]\n"
     ]
    },
    {
     "name": "stdout",
     "output_type": "stream",
     "text": [
      "Combination 2 by 2\n"
     ]
    },
    {
     "name": "stderr",
     "output_type": "stream",
     "text": [
      "0it [00:00, ?it/s]\n"
     ]
    },
    {
     "name": "stdout",
     "output_type": "stream",
     "text": [
      "Combination 3 by 3\n"
     ]
    },
    {
     "name": "stderr",
     "output_type": "stream",
     "text": [
      "0it [00:00, ?it/s]\n"
     ]
    },
    {
     "name": "stdout",
     "output_type": "stream",
     "text": [
      "Combination 4 by 4\n"
     ]
    },
    {
     "name": "stderr",
     "output_type": "stream",
     "text": [
      "0it [00:00, ?it/s]\n"
     ]
    },
    {
     "name": "stdout",
     "output_type": "stream",
     "text": [
      "Combination 5 by 5\n"
     ]
    },
    {
     "name": "stderr",
     "output_type": "stream",
     "text": [
      "0it [00:00, ?it/s]\n"
     ]
    },
    {
     "name": "stdout",
     "output_type": "stream",
     "text": [
      "Combination 6 by 6\n"
     ]
    },
    {
     "name": "stderr",
     "output_type": "stream",
     "text": [
      "0it [00:00, ?it/s]\n"
     ]
    },
    {
     "name": "stdout",
     "output_type": "stream",
     "text": [
      "Combination 7 by 7\n"
     ]
    },
    {
     "name": "stderr",
     "output_type": "stream",
     "text": [
      "0it [00:00, ?it/s]\n"
     ]
    },
    {
     "name": "stdout",
     "output_type": "stream",
     "text": [
      "Combination 8 by 8\n"
     ]
    },
    {
     "name": "stderr",
     "output_type": "stream",
     "text": [
      "0it [00:00, ?it/s]\n"
     ]
    },
    {
     "name": "stdout",
     "output_type": "stream",
     "text": [
      "Combination 9 by 9\n"
     ]
    },
    {
     "name": "stderr",
     "output_type": "stream",
     "text": [
      "0it [00:00, ?it/s]\n"
     ]
    },
    {
     "name": "stdout",
     "output_type": "stream",
     "text": [
      "Combination 10 by 10\n"
     ]
    },
    {
     "name": "stderr",
     "output_type": "stream",
     "text": [
      "0it [00:00, ?it/s]\n"
     ]
    },
    {
     "name": "stdout",
     "output_type": "stream",
     "text": [
      "Combination 11 by 11\n"
     ]
    },
    {
     "name": "stderr",
     "output_type": "stream",
     "text": [
      "0it [00:00, ?it/s]\n",
      "100%|██████████| 11/11 [00:00<00:00, 204.22it/s]\n",
      "100%|██████████| 11/11 [00:00<00:00, 9990.76it/s]\n",
      "100%|██████████| 11/11 [00:00<00:00, 1027.92it/s]"
     ]
    },
    {
     "name": "stdout",
     "output_type": "stream",
     "text": [
      "Combination 1 by 1\n"
     ]
    },
    {
     "name": "stderr",
     "output_type": "stream",
     "text": [
      "\n",
      "0it [00:00, ?it/s]\n"
     ]
    },
    {
     "name": "stdout",
     "output_type": "stream",
     "text": [
      "Combination 2 by 2\n"
     ]
    },
    {
     "name": "stderr",
     "output_type": "stream",
     "text": [
      "0it [00:00, ?it/s]\n"
     ]
    },
    {
     "name": "stdout",
     "output_type": "stream",
     "text": [
      "Combination 3 by 3\n"
     ]
    },
    {
     "name": "stderr",
     "output_type": "stream",
     "text": [
      "0it [00:00, ?it/s]\n"
     ]
    },
    {
     "name": "stdout",
     "output_type": "stream",
     "text": [
      "Combination 4 by 4\n"
     ]
    },
    {
     "name": "stderr",
     "output_type": "stream",
     "text": [
      "0it [00:00, ?it/s]\n"
     ]
    },
    {
     "name": "stdout",
     "output_type": "stream",
     "text": [
      "Combination 5 by 5\n"
     ]
    },
    {
     "name": "stderr",
     "output_type": "stream",
     "text": [
      "0it [00:00, ?it/s]\n"
     ]
    },
    {
     "name": "stdout",
     "output_type": "stream",
     "text": [
      "Combination 6 by 6\n"
     ]
    },
    {
     "name": "stderr",
     "output_type": "stream",
     "text": [
      "0it [00:00, ?it/s]\n"
     ]
    },
    {
     "name": "stdout",
     "output_type": "stream",
     "text": [
      "Combination 7 by 7\n"
     ]
    },
    {
     "name": "stderr",
     "output_type": "stream",
     "text": [
      "0it [00:00, ?it/s]\n"
     ]
    },
    {
     "name": "stdout",
     "output_type": "stream",
     "text": [
      "Combination 8 by 8\n"
     ]
    },
    {
     "name": "stderr",
     "output_type": "stream",
     "text": [
      "0it [00:00, ?it/s]\n"
     ]
    },
    {
     "name": "stdout",
     "output_type": "stream",
     "text": [
      "Combination 9 by 9\n"
     ]
    },
    {
     "name": "stderr",
     "output_type": "stream",
     "text": [
      "0it [00:00, ?it/s]\n"
     ]
    },
    {
     "name": "stdout",
     "output_type": "stream",
     "text": [
      "Combination 10 by 10\n"
     ]
    },
    {
     "name": "stderr",
     "output_type": "stream",
     "text": [
      "0it [00:00, ?it/s]\n"
     ]
    },
    {
     "name": "stdout",
     "output_type": "stream",
     "text": [
      "Combination 11 by 11\n"
     ]
    },
    {
     "name": "stderr",
     "output_type": "stream",
     "text": [
      "0it [00:00, ?it/s]\n",
      "100%|██████████| 11/11 [00:00<00:00, 161.37it/s]\n",
      "100%|██████████| 11/11 [00:00<00:00, 9875.29it/s]\n",
      "100%|██████████| 11/11 [00:00<00:00, 1094.75it/s]\n"
     ]
    },
    {
     "name": "stdout",
     "output_type": "stream",
     "text": [
      "Combination 1 by 1\n"
     ]
    },
    {
     "name": "stderr",
     "output_type": "stream",
     "text": [
      "0it [00:00, ?it/s]\n"
     ]
    },
    {
     "name": "stdout",
     "output_type": "stream",
     "text": [
      "Combination 2 by 2\n"
     ]
    },
    {
     "name": "stderr",
     "output_type": "stream",
     "text": [
      "0it [00:00, ?it/s]\n"
     ]
    },
    {
     "name": "stdout",
     "output_type": "stream",
     "text": [
      "Combination 3 by 3\n"
     ]
    },
    {
     "name": "stderr",
     "output_type": "stream",
     "text": [
      "0it [00:00, ?it/s]\n"
     ]
    },
    {
     "name": "stdout",
     "output_type": "stream",
     "text": [
      "Combination 4 by 4\n"
     ]
    },
    {
     "name": "stderr",
     "output_type": "stream",
     "text": [
      "0it [00:00, ?it/s]\n"
     ]
    },
    {
     "name": "stdout",
     "output_type": "stream",
     "text": [
      "Combination 5 by 5\n"
     ]
    },
    {
     "name": "stderr",
     "output_type": "stream",
     "text": [
      "0it [00:00, ?it/s]\n"
     ]
    },
    {
     "name": "stdout",
     "output_type": "stream",
     "text": [
      "Combination 6 by 6\n"
     ]
    },
    {
     "name": "stderr",
     "output_type": "stream",
     "text": [
      "0it [00:00, ?it/s]\n"
     ]
    },
    {
     "name": "stdout",
     "output_type": "stream",
     "text": [
      "Combination 7 by 7\n"
     ]
    },
    {
     "name": "stderr",
     "output_type": "stream",
     "text": [
      "0it [00:00, ?it/s]\n"
     ]
    },
    {
     "name": "stdout",
     "output_type": "stream",
     "text": [
      "Combination 8 by 8\n"
     ]
    },
    {
     "name": "stderr",
     "output_type": "stream",
     "text": [
      "0it [00:00, ?it/s]\n"
     ]
    },
    {
     "name": "stdout",
     "output_type": "stream",
     "text": [
      "Combination 9 by 9\n"
     ]
    },
    {
     "name": "stderr",
     "output_type": "stream",
     "text": [
      "0it [00:00, ?it/s]\n"
     ]
    },
    {
     "name": "stdout",
     "output_type": "stream",
     "text": [
      "Combination 10 by 10\n"
     ]
    },
    {
     "name": "stderr",
     "output_type": "stream",
     "text": [
      "0it [00:00, ?it/s]\n"
     ]
    },
    {
     "name": "stdout",
     "output_type": "stream",
     "text": [
      "Combination 11 by 11\n"
     ]
    },
    {
     "name": "stderr",
     "output_type": "stream",
     "text": [
      "0it [00:00, ?it/s]\n"
     ]
    }
   ],
   "source": [
    "apriori_time_sup = []\n",
    "fpgrowth_time_sup = []\n",
    "eclat_time_sup = []\n",
    "for sup in minSup:\n",
    "    #Time of FP-Growth\n",
    "    fpgrowth_start = time.time()\n",
    "    fpgrowth_instance = fpgrowth(books, min_support=sup, use_colnames=True)\n",
    "    fpgrowth_end = time.time()\n",
    "    fpgrowth_time_sup.append(fpgrowth_end - fpgrowth_start)\n",
    "\n",
    "    #Time of ECLAT\n",
    "    eclat_start = time.time()\n",
    "    eclat_instance = pe.ECLAT(data=result_df,verbose=True)\n",
    "    rules_ind, rule_sup = eclat_instance.fit(min_support=sup, min_combination=min_combination, max_combination=max_combination, separator=' & ', verbose=True)\n",
    "    eclat_end = time.time()\n",
    "    eclat_time_sup.append(eclat_end - eclat_start)\n",
    "    \n",
    "    #Time of Apriori\n",
    "    apriori_start = time.time()\n",
    "    apriori_instance = apriori(apriori_data, min_support=sup, use_colnames=True)\n",
    "    apriori_end = time.time()\n",
    "    apriori_time_sup.append(apriori_end - apriori_start)"
   ]
  },
  {
   "cell_type": "code",
   "execution_count": 19,
   "metadata": {},
   "outputs": [
    {
     "name": "stdout",
     "output_type": "stream",
     "text": [
      "apriori average time: 0.008442428376939561\n",
      "fp-growth average time: 0.07649077309502496\n",
      "eclat average time: 0.6515496042039659\n"
     ]
    },
    {
     "data": {
      "text/plain": [
       "Text(0.5, 1.0, 'Thời gian chạy của ECLAT, Apriori và FP-Growth khi minimum support tăng')"
      ]
     },
     "execution_count": 19,
     "metadata": {},
     "output_type": "execute_result"
    },
    {
     "data": {
      "image/png": "[encoded data removed]",
      "text/plain": [
       "<Figure size 1000x800 with 1 Axes>"
      ]
     },
     "metadata": {},
     "output_type": "display_data"
    }
   ],
   "source": [
    "print('apriori average time:', sum(apriori_time_sup) / len(apriori_time_sup))\n",
    "print('fp-growth average time:', sum(fpgrowth_time_sup) / len(fpgrowth_time_sup))\n",
    "print('eclat average time:', sum(eclat_time_sup) / len(eclat_time_sup))\n",
    "\n",
    "plt.figure(figsize=(10,8))\n",
    "plt.plot(minSup, eclat_time_sup, label='ECLAT', linewidth=2)\n",
    "plt.plot(minSup, fpgrowth_time_sup, label='FP-Growth', linewidth=2)\n",
    "plt.plot(minSup, apriori_time_sup, label='Apriori', linewidth=2)\n",
    "plt.legend()\n",
    "plt.xlabel('Minimum support')\n",
    "plt.ylabel('Thời gian (seconds)')\n",
    "plt.title('Thời gian chạy của ECLAT, Apriori và FP-Growth khi minimum support tăng')"
   ]
  },
  {
   "cell_type": "markdown",
   "metadata": {},
   "source": [
    "## When size of frequent itemset increases"
   ]
  },
  {
   "cell_type": "code",
   "execution_count": 20,
   "metadata": {},
   "outputs": [],
   "source": [
    "max_size = len(books.columns)"
   ]
  },
  {
   "cell_type": "code",
   "execution_count": 21,
   "metadata": {},
   "outputs": [
    {
     "name": "stderr",
     "output_type": "stream",
     "text": [
      "100%|██████████| 11/11 [00:00<00:00, 72.02it/s]\n",
      "100%|██████████| 11/11 [00:00<00:00, 8384.03it/s]\n",
      "100%|██████████| 11/11 [00:00<00:00, 390.22it/s]\n",
      "100%|██████████| 11/11 [00:00<00:00, 81.19it/s]\n",
      "100%|██████████| 11/11 [00:00<00:00, 2161.51it/s]\n",
      "100%|██████████| 11/11 [00:00<00:00, 637.46it/s]\n"
     ]
    },
    {
     "name": "stdout",
     "output_type": "stream",
     "text": [
      "Combination 1 by 1\n"
     ]
    },
    {
     "name": "stderr",
     "output_type": "stream",
     "text": [
      "9it [00:00, 119.61it/s]\n",
      "100%|██████████| 11/11 [00:00<00:00, 215.94it/s]\n",
      "100%|██████████| 11/11 [00:00<00:00, 10010.27it/s]\n",
      "100%|██████████| 11/11 [00:00<00:00, 1239.15it/s]\n"
     ]
    },
    {
     "name": "stdout",
     "output_type": "stream",
     "text": [
      "Combination 1 by 1\n"
     ]
    },
    {
     "name": "stderr",
     "output_type": "stream",
     "text": [
      "9it [00:00, 165.10it/s]\n"
     ]
    },
    {
     "name": "stdout",
     "output_type": "stream",
     "text": [
      "Combination 2 by 2\n"
     ]
    },
    {
     "name": "stderr",
     "output_type": "stream",
     "text": [
      "36it [00:00, 191.19it/s]\n",
      "100%|██████████| 11/11 [00:00<00:00, 70.49it/s]\n",
      "100%|██████████| 11/11 [00:00<00:00, 9174.26it/s]\n",
      "100%|██████████| 11/11 [00:00<00:00, 706.04it/s]\n"
     ]
    },
    {
     "name": "stdout",
     "output_type": "stream",
     "text": [
      "Combination 1 by 1\n"
     ]
    },
    {
     "name": "stderr",
     "output_type": "stream",
     "text": [
      "9it [00:00, 140.92it/s]\n"
     ]
    },
    {
     "name": "stdout",
     "output_type": "stream",
     "text": [
      "Combination 2 by 2\n"
     ]
    },
    {
     "name": "stderr",
     "output_type": "stream",
     "text": [
      "36it [00:00, 200.55it/s]\n"
     ]
    },
    {
     "name": "stdout",
     "output_type": "stream",
     "text": [
      "Combination 3 by 3\n"
     ]
    },
    {
     "name": "stderr",
     "output_type": "stream",
     "text": [
      "84it [00:00, 103.46it/s]\n",
      "100%|██████████| 11/11 [00:00<00:00, 197.31it/s]\n",
      "100%|██████████| 11/11 [00:00<00:00, 5703.01it/s]\n",
      "100%|██████████| 11/11 [00:00<00:00, 946.56it/s]\n"
     ]
    },
    {
     "name": "stdout",
     "output_type": "stream",
     "text": [
      "Combination 1 by 1\n"
     ]
    },
    {
     "name": "stderr",
     "output_type": "stream",
     "text": [
      "9it [00:00, 161.31it/s]\n"
     ]
    },
    {
     "name": "stdout",
     "output_type": "stream",
     "text": [
      "Combination 2 by 2\n"
     ]
    },
    {
     "name": "stderr",
     "output_type": "stream",
     "text": [
      "36it [00:00, 152.39it/s]\n"
     ]
    },
    {
     "name": "stdout",
     "output_type": "stream",
     "text": [
      "Combination 3 by 3\n"
     ]
    },
    {
     "name": "stderr",
     "output_type": "stream",
     "text": [
      "84it [00:00, 171.19it/s]\n"
     ]
    },
    {
     "name": "stdout",
     "output_type": "stream",
     "text": [
      "Combination 4 by 4\n"
     ]
    },
    {
     "name": "stderr",
     "output_type": "stream",
     "text": [
      "126it [00:00, 156.05it/s]\n",
      "100%|██████████| 11/11 [00:00<00:00, 144.02it/s]\n",
      "100%|██████████| 11/11 [00:00<00:00, 1597.50it/s]\n",
      "100%|██████████| 11/11 [00:00<00:00, 598.22it/s]\n"
     ]
    },
    {
     "name": "stdout",
     "output_type": "stream",
     "text": [
      "Combination 1 by 1\n"
     ]
    },
    {
     "name": "stderr",
     "output_type": "stream",
     "text": [
      "9it [00:00, 53.42it/s]\n"
     ]
    },
    {
     "name": "stdout",
     "output_type": "stream",
     "text": [
      "Combination 2 by 2\n"
     ]
    },
    {
     "name": "stderr",
     "output_type": "stream",
     "text": [
      "36it [00:00, 148.95it/s]\n"
     ]
    },
    {
     "name": "stdout",
     "output_type": "stream",
     "text": [
      "Combination 3 by 3\n"
     ]
    },
    {
     "name": "stderr",
     "output_type": "stream",
     "text": [
      "84it [00:00, 227.02it/s]\n"
     ]
    },
    {
     "name": "stdout",
     "output_type": "stream",
     "text": [
      "Combination 4 by 4\n"
     ]
    },
    {
     "name": "stderr",
     "output_type": "stream",
     "text": [
      "126it [00:00, 261.79it/s]\n"
     ]
    },
    {
     "name": "stdout",
     "output_type": "stream",
     "text": [
      "Combination 5 by 5\n"
     ]
    },
    {
     "name": "stderr",
     "output_type": "stream",
     "text": [
      "126it [00:00, 165.58it/s]\n",
      "100%|██████████| 11/11 [00:00<00:00, 217.00it/s]\n",
      "100%|██████████| 11/11 [00:00<00:00, 9448.57it/s]\n",
      "100%|██████████| 11/11 [00:00<00:00, 858.70it/s]\n"
     ]
    },
    {
     "name": "stdout",
     "output_type": "stream",
     "text": [
      "Combination 1 by 1\n"
     ]
    },
    {
     "name": "stderr",
     "output_type": "stream",
     "text": [
      "9it [00:00, 162.82it/s]\n"
     ]
    },
    {
     "name": "stdout",
     "output_type": "stream",
     "text": [
      "Combination 2 by 2\n"
     ]
    },
    {
     "name": "stderr",
     "output_type": "stream",
     "text": [
      "36it [00:00, 160.19it/s]\n"
     ]
    },
    {
     "name": "stdout",
     "output_type": "stream",
     "text": [
      "Combination 3 by 3\n"
     ]
    },
    {
     "name": "stderr",
     "output_type": "stream",
     "text": [
      "84it [00:00, 237.32it/s]\n"
     ]
    },
    {
     "name": "stdout",
     "output_type": "stream",
     "text": [
      "Combination 4 by 4\n"
     ]
    },
    {
     "name": "stderr",
     "output_type": "stream",
     "text": [
      "126it [00:00, 163.52it/s]\n"
     ]
    },
    {
     "name": "stdout",
     "output_type": "stream",
     "text": [
      "Combination 5 by 5\n"
     ]
    },
    {
     "name": "stderr",
     "output_type": "stream",
     "text": [
      "126it [00:00, 131.40it/s]\n"
     ]
    },
    {
     "name": "stdout",
     "output_type": "stream",
     "text": [
      "Combination 6 by 6\n"
     ]
    },
    {
     "name": "stderr",
     "output_type": "stream",
     "text": [
      "84it [00:00, 185.72it/s]\n",
      "100%|██████████| 11/11 [00:00<00:00, 215.85it/s]\n",
      "100%|██████████| 11/11 [00:00<00:00, 4439.27it/s]\n",
      "100%|██████████| 11/11 [00:00<00:00, 949.19it/s]\n"
     ]
    },
    {
     "name": "stdout",
     "output_type": "stream",
     "text": [
      "Combination 1 by 1\n"
     ]
    },
    {
     "name": "stderr",
     "output_type": "stream",
     "text": [
      "9it [00:00, 58.60it/s]\n"
     ]
    },
    {
     "name": "stdout",
     "output_type": "stream",
     "text": [
      "Combination 2 by 2\n"
     ]
    },
    {
     "name": "stderr",
     "output_type": "stream",
     "text": [
      "36it [00:00, 57.42it/s]\n"
     ]
    },
    {
     "name": "stdout",
     "output_type": "stream",
     "text": [
      "Combination 3 by 3\n"
     ]
    },
    {
     "name": "stderr",
     "output_type": "stream",
     "text": [
      "84it [00:01, 62.95it/s]\n"
     ]
    },
    {
     "name": "stdout",
     "output_type": "stream",
     "text": [
      "Combination 4 by 4\n"
     ]
    },
    {
     "name": "stderr",
     "output_type": "stream",
     "text": [
      "126it [00:00, 127.78it/s]\n"
     ]
    },
    {
     "name": "stdout",
     "output_type": "stream",
     "text": [
      "Combination 5 by 5\n"
     ]
    },
    {
     "name": "stderr",
     "output_type": "stream",
     "text": [
      "126it [00:00, 152.33it/s]\n"
     ]
    },
    {
     "name": "stdout",
     "output_type": "stream",
     "text": [
      "Combination 6 by 6\n"
     ]
    },
    {
     "name": "stderr",
     "output_type": "stream",
     "text": [
      "84it [00:00, 172.00it/s]\n"
     ]
    },
    {
     "name": "stdout",
     "output_type": "stream",
     "text": [
      "Combination 7 by 7\n"
     ]
    },
    {
     "name": "stderr",
     "output_type": "stream",
     "text": [
      "36it [00:00, 170.01it/s]\n",
      "100%|██████████| 11/11 [00:00<00:00, 122.03it/s]\n",
      "100%|██████████| 11/11 [00:00<00:00, 1893.90it/s]\n",
      "100%|██████████| 11/11 [00:00<00:00, 692.96it/s]\n"
     ]
    },
    {
     "name": "stdout",
     "output_type": "stream",
     "text": [
      "Combination 1 by 1\n"
     ]
    },
    {
     "name": "stderr",
     "output_type": "stream",
     "text": [
      "9it [00:00, 132.74it/s]\n"
     ]
    },
    {
     "name": "stdout",
     "output_type": "stream",
     "text": [
      "Combination 2 by 2\n"
     ]
    },
    {
     "name": "stderr",
     "output_type": "stream",
     "text": [
      "36it [00:00, 109.16it/s]\n"
     ]
    },
    {
     "name": "stdout",
     "output_type": "stream",
     "text": [
      "Combination 3 by 3\n"
     ]
    },
    {
     "name": "stderr",
     "output_type": "stream",
     "text": [
      "84it [00:00, 143.88it/s]\n"
     ]
    },
    {
     "name": "stdout",
     "output_type": "stream",
     "text": [
      "Combination 4 by 4\n"
     ]
    },
    {
     "name": "stderr",
     "output_type": "stream",
     "text": [
      "126it [00:00, 166.33it/s]\n"
     ]
    },
    {
     "name": "stdout",
     "output_type": "stream",
     "text": [
      "Combination 5 by 5\n"
     ]
    },
    {
     "name": "stderr",
     "output_type": "stream",
     "text": [
      "126it [00:01, 110.64it/s]\n"
     ]
    },
    {
     "name": "stdout",
     "output_type": "stream",
     "text": [
      "Combination 6 by 6\n"
     ]
    },
    {
     "name": "stderr",
     "output_type": "stream",
     "text": [
      "84it [00:00, 124.77it/s]\n"
     ]
    },
    {
     "name": "stdout",
     "output_type": "stream",
     "text": [
      "Combination 7 by 7\n"
     ]
    },
    {
     "name": "stderr",
     "output_type": "stream",
     "text": [
      "36it [00:00, 127.85it/s]\n"
     ]
    },
    {
     "name": "stdout",
     "output_type": "stream",
     "text": [
      "Combination 8 by 8\n"
     ]
    },
    {
     "name": "stderr",
     "output_type": "stream",
     "text": [
      "9it [00:00, 130.87it/s]\n",
      "100%|██████████| 11/11 [00:00<00:00, 210.39it/s]\n",
      "100%|██████████| 11/11 [00:00<00:00, 9599.95it/s]\n",
      "100%|██████████| 11/11 [00:00<00:00, 1006.88it/s]\n"
     ]
    },
    {
     "name": "stdout",
     "output_type": "stream",
     "text": [
      "Combination 1 by 1\n"
     ]
    },
    {
     "name": "stderr",
     "output_type": "stream",
     "text": [
      "9it [00:00, 178.38it/s]\n"
     ]
    },
    {
     "name": "stdout",
     "output_type": "stream",
     "text": [
      "Combination 2 by 2\n"
     ]
    },
    {
     "name": "stderr",
     "output_type": "stream",
     "text": [
      "36it [00:00, 179.69it/s]\n"
     ]
    },
    {
     "name": "stdout",
     "output_type": "stream",
     "text": [
      "Combination 3 by 3\n"
     ]
    },
    {
     "name": "stderr",
     "output_type": "stream",
     "text": [
      "84it [00:00, 200.33it/s]\n"
     ]
    },
    {
     "name": "stdout",
     "output_type": "stream",
     "text": [
      "Combination 4 by 4\n"
     ]
    },
    {
     "name": "stderr",
     "output_type": "stream",
     "text": [
      "126it [00:00, 140.89it/s]\n"
     ]
    },
    {
     "name": "stdout",
     "output_type": "stream",
     "text": [
      "Combination 5 by 5\n"
     ]
    },
    {
     "name": "stderr",
     "output_type": "stream",
     "text": [
      "126it [00:00, 194.91it/s]\n"
     ]
    },
    {
     "name": "stdout",
     "output_type": "stream",
     "text": [
      "Combination 6 by 6\n"
     ]
    },
    {
     "name": "stderr",
     "output_type": "stream",
     "text": [
      "84it [00:00, 148.26it/s]\n"
     ]
    },
    {
     "name": "stdout",
     "output_type": "stream",
     "text": [
      "Combination 7 by 7\n"
     ]
    },
    {
     "name": "stderr",
     "output_type": "stream",
     "text": [
      "36it [00:00, 173.62it/s]\n"
     ]
    },
    {
     "name": "stdout",
     "output_type": "stream",
     "text": [
      "Combination 8 by 8\n"
     ]
    },
    {
     "name": "stderr",
     "output_type": "stream",
     "text": [
      "9it [00:00, 147.06it/s]\n"
     ]
    },
    {
     "name": "stdout",
     "output_type": "stream",
     "text": [
      "Combination 9 by 9\n"
     ]
    },
    {
     "name": "stderr",
     "output_type": "stream",
     "text": [
      "1it [00:00, 113.39it/s]\n",
      "100%|██████████| 11/11 [00:00<00:00, 217.31it/s]\n",
      "100%|██████████| 11/11 [00:00<00:00, 8495.18it/s]\n",
      "100%|██████████| 11/11 [00:00<00:00, 924.54it/s]\n"
     ]
    },
    {
     "name": "stdout",
     "output_type": "stream",
     "text": [
      "Combination 1 by 1\n"
     ]
    },
    {
     "name": "stderr",
     "output_type": "stream",
     "text": [
      "9it [00:00, 150.59it/s]\n"
     ]
    },
    {
     "name": "stdout",
     "output_type": "stream",
     "text": [
      "Combination 2 by 2\n"
     ]
    },
    {
     "name": "stderr",
     "output_type": "stream",
     "text": [
      "36it [00:00, 189.28it/s]\n"
     ]
    },
    {
     "name": "stdout",
     "output_type": "stream",
     "text": [
      "Combination 3 by 3\n"
     ]
    },
    {
     "name": "stderr",
     "output_type": "stream",
     "text": [
      "84it [00:00, 231.55it/s]\n"
     ]
    },
    {
     "name": "stdout",
     "output_type": "stream",
     "text": [
      "Combination 4 by 4\n"
     ]
    },
    {
     "name": "stderr",
     "output_type": "stream",
     "text": [
      "126it [00:00, 231.08it/s]\n"
     ]
    },
    {
     "name": "stdout",
     "output_type": "stream",
     "text": [
      "Combination 5 by 5\n"
     ]
    },
    {
     "name": "stderr",
     "output_type": "stream",
     "text": [
      "126it [00:00, 207.94it/s]\n"
     ]
    },
    {
     "name": "stdout",
     "output_type": "stream",
     "text": [
      "Combination 6 by 6\n"
     ]
    },
    {
     "name": "stderr",
     "output_type": "stream",
     "text": [
      "84it [00:00, 187.69it/s]\n"
     ]
    },
    {
     "name": "stdout",
     "output_type": "stream",
     "text": [
      "Combination 7 by 7\n"
     ]
    },
    {
     "name": "stderr",
     "output_type": "stream",
     "text": [
      "36it [00:00, 152.05it/s]\n"
     ]
    },
    {
     "name": "stdout",
     "output_type": "stream",
     "text": [
      "Combination 8 by 8\n"
     ]
    },
    {
     "name": "stderr",
     "output_type": "stream",
     "text": [
      "9it [00:00, 138.09it/s]\n"
     ]
    },
    {
     "name": "stdout",
     "output_type": "stream",
     "text": [
      "Combination 9 by 9\n"
     ]
    },
    {
     "name": "stderr",
     "output_type": "stream",
     "text": [
      "1it [00:00, 51.16it/s]\n"
     ]
    },
    {
     "name": "stdout",
     "output_type": "stream",
     "text": [
      "Combination 10 by 10\n"
     ]
    },
    {
     "name": "stderr",
     "output_type": "stream",
     "text": [
      "0it [00:00, ?it/s]\n"
     ]
    }
   ],
   "source": [
    "apriori_time_freq = []\n",
    "fpgrowth_time_freq = []\n",
    "eclat_time_freq = []\n",
    "for comb in range(max_size):\n",
    "    #Time of FP-Growth\n",
    "    fpgrowth_start = time.time()\n",
    "    fpgrowth_instance = fpgrowth(books, min_support=0.1, max_len=comb, use_colnames=True)\n",
    "    fpgrowth_end = time.time()\n",
    "    fpgrowth_time_freq.append(fpgrowth_end - fpgrowth_start)\n",
    "\n",
    "    #Time of ECLAT\n",
    "    eclat_instance = pe.ECLAT(data=result_df,verbose=True)\n",
    "    eclat_start = time.time()\n",
    "    rules_ind, rule_freq = eclat_instance.fit(min_support=0.1, min_combination=min_combination, max_combination=comb, separator=' & ', verbose=True)\n",
    "    eclat_end = time.time()\n",
    "    eclat_time_freq.append(eclat_end - eclat_start)\n",
    "    \n",
    "    #Time of Apriori\n",
    "    apriori_start = time.time()\n",
    "    apriori_instance = apriori(apriori_data, min_support=0.1, max_len=comb, use_colnames=True)\n",
    "    apriori_end = time.time()\n",
    "    apriori_time_freq.append(apriori_end - apriori_start)"
   ]
  },
  {
   "cell_type": "code",
   "execution_count": 22,
   "metadata": {},
   "outputs": [
    {
     "name": "stdout",
     "output_type": "stream",
     "text": [
      "apriori average time: 0.011141191829334606\n",
      "fp-growth average time: 0.22421834685585715\n",
      "eclat average time: 2.077421014959162\n"
     ]
    },
    {
     "data": {
      "text/plain": [
       "Text(0.5, 1.0, 'Thời gian chạy của ECLAT, Apriori và FP-Growth khi Frequent Itemset size tăng')"
      ]
     },
     "execution_count": 22,
     "metadata": {},
     "output_type": "execute_result"
    },
    {
     "data": {
      "image/png": "[encoded data removed]",
      "text/plain": [
       "<Figure size 1000x800 with 1 Axes>"
      ]
     },
     "metadata": {},
     "output_type": "display_data"
    }
   ],
   "source": [
    "print('apriori average time:', sum(apriori_time_freq) / len(apriori_time_freq))\n",
    "print('fp-growth average time:', sum(fpgrowth_time_freq) / len(fpgrowth_time_freq))\n",
    "print('eclat average time:', sum(eclat_time_freq) / len(eclat_time_freq))\n",
    "\n",
    "plt.figure(figsize=(10,8))\n",
    "plt.plot(range(max_size), eclat_time_freq, label='ECLAT', linewidth=2)\n",
    "plt.plot(range(max_size), fpgrowth_time_freq, label='FP-Growth', linewidth=2)\n",
    "plt.plot(range(max_size), apriori_time_freq, label='Apriori', linewidth=2)\n",
    "plt.legend()\n",
    "plt.xlabel('Frequent Itemset size')\n",
    "plt.ylabel('Thời gian (seconds)')\n",
    "plt.title('Thời gian chạy của ECLAT, Apriori và FP-Growth khi Frequent Itemset size tăng')"
   ]
  },
  {
   "cell_type": "code",
   "execution_count": null,
   "metadata": {},
   "outputs": [],
   "source": []
  }
 ],
 "metadata": {
  "kernelspec": {
   "display_name": "Python 3",
   "language": "python",
   "name": "python3"
  },
  "language_info": {
   "codemirror_mode": {
    "name": "ipython",
    "version": 3
   },
   "file_extension": ".py",
   "mimetype": "text/x-python",
   "name": "python",
   "nbconvert_exporter": "python",
   "pygments_lexer": "ipython3",
   "version": "3.11.5"
  }
 },
 "nbformat": 4,
 "nbformat_minor": 2
}
