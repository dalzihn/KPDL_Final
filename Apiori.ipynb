{
 "cells": [
  {
   "cell_type": "code",
   "execution_count": 6,
   "metadata": {},
   "outputs": [],
   "source": [
    "import pandas as pd\n",
    "from mlxtend.frequent_patterns import apriori, association_rules\n",
    "from mlxtend.preprocessing import TransactionEncoder\n"
   ]
  },
  {
   "cell_type": "code",
   "execution_count": null,
   "metadata": {},
   "outputs": [
    {
     "name": "stdout",
     "output_type": "stream",
     "text": [
      "<class 'pandas.core.frame.DataFrame'>\n",
      "RangeIndex: 2000 entries, 0 to 1999\n",
      "Data columns (total 11 columns):\n",
      " #   Column    Non-Null Count  Dtype\n",
      "---  ------    --------------  -----\n",
      " 0   Child     2000 non-null   int64\n",
      " 1   Youth     2000 non-null   int64\n",
      " 2   Cook      2000 non-null   int64\n",
      " 3   Science   2000 non-null   int64\n",
      " 4   Music     2000 non-null   int64\n",
      " 5   Art       2000 non-null   int64\n",
      " 6   Geog      2000 non-null   int64\n",
      " 7   Sport     2000 non-null   int64\n",
      " 8   Tourism   2000 non-null   int64\n",
      " 9   Business  2000 non-null   int64\n",
      " 10  IT        2000 non-null   int64\n",
      "dtypes: int64(11)\n",
      "memory usage: 172.0 KB\n"
     ]
    }
   ],
   "source": [
    "file_path = 'E:/EU/DataMining/Report/Books.csv'  \n",
    "data = pd.read_csv(file_path)\n",
    "\n",
    "# Xuất ra thông tin cơ sở dữ liệu\n",
    "# --------------------------------------\n",
    "data.info()"
   ]
  },
  {
   "cell_type": "code",
   "execution_count": null,
   "metadata": {},
   "outputs": [
    {
     "name": "stdout",
     "output_type": "stream",
     "text": [
      "   Child  Youth   Cook  Science  Music    Art   Geog  Sport  Tourism  \\\n",
      "0  False   True  False     True  False  False   True  False    False   \n",
      "1   True  False  False    False  False  False  False  False    False   \n",
      "2  False  False  False    False  False  False  False  False    False   \n",
      "3   True   True   True    False   True  False   True  False    False   \n",
      "4  False  False   True    False  False  False   True  False    False   \n",
      "\n",
      "   Business     IT  \n",
      "0     False  False  \n",
      "1     False  False  \n",
      "2     False  False  \n",
      "3     False  False  \n",
      "4     False  False  \n"
     ]
    },
    {
     "name": "stderr",
     "output_type": "stream",
     "text": [
      "C:\\Users\\phanh\\AppData\\Local\\Temp\\ipykernel_14616\\2222133444.py:2: FutureWarning: DataFrame.applymap has been deprecated. Use DataFrame.map instead.\n",
      "  data = data.applymap(lambda x: True if x == 1 else False)\n"
     ]
    }
   ],
   "source": [
    "# Nếu dữ liệu đã ở dạng nhị phân (0 và 1), dòng dưới đây sẽ chuyển đổi sang kiểu Boolean\n",
    "# --------------------------------------\n",
    "data = data.applymap(lambda x: True if x == 1 else False)\n",
    "\n",
    "data = data.astype(bool)\n",
    "print(data.head())"
   ]
  },
  {
   "cell_type": "code",
   "execution_count": null,
   "metadata": {},
   "outputs": [
    {
     "name": "stdout",
     "output_type": "stream",
     "text": [
      "Các tập phổ biến từ CSDL Books:\n",
      "    support                itemsets\n",
      "0    0.4230                 (Child)\n",
      "1    0.2475                 (Youth)\n",
      "2    0.4310                  (Cook)\n",
      "3    0.2820               (Science)\n",
      "4    0.2145                 (Music)\n",
      "5    0.2410                   (Art)\n",
      "6    0.2760                  (Geog)\n",
      "7    0.1135                 (Sport)\n",
      "8    0.1085                    (IT)\n",
      "9    0.1650          (Youth, Child)\n",
      "10   0.2560           (Cook, Child)\n",
      "11   0.1840        (Science, Child)\n",
      "12   0.1515          (Music, Child)\n",
      "13   0.1625            (Child, Art)\n",
      "14   0.1950           (Geog, Child)\n",
      "15   0.1620           (Cook, Youth)\n",
      "16   0.1155        (Science, Youth)\n",
      "17   0.1010            (Youth, Art)\n",
      "18   0.1205           (Geog, Youth)\n",
      "19   0.1875         (Science, Cook)\n",
      "20   0.1525           (Cook, Music)\n",
      "21   0.1670             (Cook, Art)\n",
      "22   0.1925            (Cook, Geog)\n",
      "23   0.1135           (Cook, Sport)\n",
      "24   0.1055        (Science, Music)\n",
      "25   0.1235          (Science, Art)\n",
      "26   0.1325         (Science, Geog)\n",
      "27   0.1105           (Music, Geog)\n",
      "28   0.1275             (Geog, Art)\n",
      "29   0.1290    (Cook, Youth, Child)\n",
      "30   0.1460  (Science, Cook, Child)\n",
      "31   0.1225    (Cook, Music, Child)\n",
      "32   0.1265      (Cook, Child, Art)\n",
      "33   0.1495     (Cook, Geog, Child)\n",
      "34   0.1045  (Science, Geog, Child)\n",
      "35   0.1020      (Geog, Child, Art)\n",
      "36   0.1015    (Science, Cook, Art)\n",
      "37   0.1085   (Science, Cook, Geog)\n",
      "38   0.1035       (Cook, Geog, Art)\n"
     ]
    }
   ],
   "source": [
    "# Tính các tập phổ biến có min_support = 10% \n",
    "# --------------------------------------\n",
    "frequent_itemsets = apriori(data, min_support=0.1, use_colnames=True)\n",
    "\n",
    "print(\"Các tập phổ biến từ CSDL Books:\")\n",
    "print(frequent_itemsets)\n"
   ]
  },
  {
   "cell_type": "code",
   "execution_count": 14,
   "metadata": {},
   "outputs": [
    {
     "name": "stdout",
     "output_type": "stream",
     "text": [
      "Xuất ra kết quả từ Luật kết hợp:\n",
      "    antecedents   consequents  antecedent support  consequent support  \\\n",
      "0       (Youth)       (Child)              0.2475              0.4230   \n",
      "1       (Child)       (Youth)              0.4230              0.2475   \n",
      "2        (Cook)       (Child)              0.4310              0.4230   \n",
      "3       (Child)        (Cook)              0.4230              0.4310   \n",
      "4     (Science)       (Child)              0.2820              0.4230   \n",
      "..          ...           ...                 ...                 ...   \n",
      "95  (Cook, Art)        (Geog)              0.1670              0.2760   \n",
      "96  (Geog, Art)        (Cook)              0.1275              0.4310   \n",
      "97       (Cook)   (Geog, Art)              0.4310              0.1275   \n",
      "98       (Geog)   (Cook, Art)              0.2760              0.1670   \n",
      "99        (Art)  (Cook, Geog)              0.2410              0.1925   \n",
      "\n",
      "    support  confidence      lift  representativity  leverage  conviction  \\\n",
      "0    0.1650    0.666667  1.576044               1.0  0.060308    1.731000   \n",
      "1    0.1650    0.390071  1.576044               1.0  0.060308    1.233750   \n",
      "2    0.2560    0.593968  1.404179               1.0  0.073687    1.421069   \n",
      "3    0.2560    0.605201  1.404179               1.0  0.073687    1.441240   \n",
      "4    0.1840    0.652482  1.542511               1.0  0.064714    1.660347   \n",
      "..      ...         ...       ...               ...       ...         ...   \n",
      "95   0.1035    0.619760  2.245509               1.0  0.057408    1.904063   \n",
      "96   0.1035    0.811765  1.883445               1.0  0.048547    3.022812   \n",
      "97   0.1035    0.240139  1.883445               1.0  0.048547    1.148237   \n",
      "98   0.1035    0.375000  2.245509               1.0  0.057408    1.332800   \n",
      "99   0.1035    0.429461  2.230964               1.0  0.057107    1.415327   \n",
      "\n",
      "    zhangs_metric   jaccard  certainty  kulczynski  \n",
      "0        0.485714  0.326409   0.422299    0.528369  \n",
      "1        0.633449  0.326409   0.189463    0.528369  \n",
      "2        0.505870  0.428094   0.296304    0.599584  \n",
      "3        0.498856  0.428094   0.306153    0.599584  \n",
      "4        0.489842  0.353167   0.397716    0.543735  \n",
      "..            ...       ...        ...         ...  \n",
      "95       0.665866  0.304860   0.474807    0.497380  \n",
      "96       0.537602  0.227473   0.669182    0.525952  \n",
      "97       0.824355  0.227473   0.129099    0.525952  \n",
      "98       0.766114  0.304860   0.249700    0.497380  \n",
      "99       0.726961  0.313636   0.293450    0.483561  \n",
      "\n",
      "[100 rows x 14 columns]\n"
     ]
    }
   ],
   "source": [
    "# Tính số lượng itemsets dựa vào frequent_itemsets\n",
    "# --------------------------------------\n",
    "num_itemsets = len(frequent_itemsets)\n",
    "\n",
    "# Khởi tạo luật kết hợp dựa trên frequent_itemsets đó\n",
    "# --------------------------------------\n",
    "rules = association_rules(frequent_itemsets, num_itemsets=num_itemsets, metric=\"confidence\", min_threshold=0.2)\n",
    "\n",
    "print(\"Xuất ra kết quả từ Luật kết hợp:\")\n",
    "print(rules)"
   ]
  }
 ],
 "metadata": {
  "kernelspec": {
   "display_name": "base",
   "language": "python",
   "name": "python3"
  },
  "language_info": {
   "codemirror_mode": {
    "name": "ipython",
    "version": 3
   },
   "file_extension": ".py",
   "mimetype": "text/x-python",
   "name": "python",
   "nbconvert_exporter": "python",
   "pygments_lexer": "ipython3",
   "version": "3.12.7"
  }
 },
 "nbformat": 4,
 "nbformat_minor": 2
}
